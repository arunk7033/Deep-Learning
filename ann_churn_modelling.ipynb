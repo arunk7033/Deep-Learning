{
  "cells": [
    {
      "cell_type": "markdown",
      "id": "handled-candy",
      "metadata": {
        "papermill": {
          "duration": 0.028166,
          "end_time": "2024-03-08T19:56:20.838867",
          "exception": false,
          "start_time": "2024-03-08T19:56:20.810701",
          "status": "completed"
        },
        "tags": [],
        "id": "handled-candy"
      },
      "source": [
        "# IMPORTING THE LIBRARIES"
      ]
    },
    {
      "cell_type": "code",
      "execution_count": 1,
      "id": "foreign-pixel",
      "metadata": {
        "execution": {
          "iopub.execute_input": "2024-03-08T19:56:20.899130Z",
          "iopub.status.busy": "2024-03-08T19:56:20.898137Z",
          "iopub.status.idle": "2024-03-08T19:56:20.905183Z",
          "shell.execute_reply": "2024-03-08T19:56:20.905797Z",
          "shell.execute_reply.started": "2024-03-08T16:34:09.619805Z"
        },
        "papermill": {
          "duration": 0.038716,
          "end_time": "2024-03-08T19:56:20.906071",
          "exception": false,
          "start_time": "2024-03-08T19:56:20.867355",
          "status": "completed"
        },
        "tags": [],
        "id": "foreign-pixel"
      },
      "outputs": [],
      "source": [
        "import numpy as np\n",
        "import matplotlib.pyplot as plt\n",
        "import pandas as pd"
      ]
    },
    {
      "cell_type": "markdown",
      "id": "hungarian-distance",
      "metadata": {
        "papermill": {
          "duration": 0.027414,
          "end_time": "2024-03-08T19:56:20.960977",
          "exception": false,
          "start_time": "2024-03-08T19:56:20.933563",
          "status": "completed"
        },
        "tags": [],
        "id": "hungarian-distance"
      },
      "source": [
        "# IMPORTING THE DATASET"
      ]
    },
    {
      "cell_type": "code",
      "execution_count": 2,
      "id": "developing-purse",
      "metadata": {
        "execution": {
          "iopub.execute_input": "2024-03-08T19:56:21.021936Z",
          "iopub.status.busy": "2024-03-08T19:56:21.021174Z",
          "iopub.status.idle": "2024-03-08T19:56:21.052914Z",
          "shell.execute_reply": "2024-03-08T19:56:21.053443Z",
          "shell.execute_reply.started": "2024-03-08T16:34:09.640120Z"
        },
        "papermill": {
          "duration": 0.06499,
          "end_time": "2024-03-08T19:56:21.053614",
          "exception": false,
          "start_time": "2024-03-08T19:56:20.988624",
          "status": "completed"
        },
        "tags": [],
        "id": "developing-purse"
      },
      "outputs": [],
      "source": [
        "data = pd.read_csv('Churn_Modelling.csv')"
      ]
    },
    {
      "cell_type": "code",
      "execution_count": 3,
      "id": "digital-amplifier",
      "metadata": {
        "execution": {
          "iopub.execute_input": "2024-03-08T19:56:21.111960Z",
          "iopub.status.busy": "2024-03-08T19:56:21.111365Z",
          "iopub.status.idle": "2024-03-08T19:56:21.139654Z",
          "shell.execute_reply": "2024-03-08T19:56:21.140087Z",
          "shell.execute_reply.started": "2024-03-08T16:34:09.697175Z"
        },
        "papermill": {
          "duration": 0.058971,
          "end_time": "2024-03-08T19:56:21.140258",
          "exception": false,
          "start_time": "2024-03-08T19:56:21.081287",
          "status": "completed"
        },
        "tags": [],
        "colab": {
          "base_uri": "https://localhost:8080/",
          "height": 226
        },
        "id": "digital-amplifier",
        "outputId": "06487655-3023-42e6-9320-4e62ca4711cf"
      },
      "outputs": [
        {
          "output_type": "execute_result",
          "data": {
            "text/plain": [
              "   RowNumber  CustomerId   Surname  CreditScore Geography  Gender  Age  \\\n",
              "0          1    15634602  Hargrave          619    France  Female   42   \n",
              "1          2    15647311      Hill          608     Spain  Female   41   \n",
              "2          3    15619304      Onio          502    France  Female   42   \n",
              "3          4    15701354      Boni          699    France  Female   39   \n",
              "4          5    15737888  Mitchell          850     Spain  Female   43   \n",
              "\n",
              "   Tenure    Balance  NumOfProducts  HasCrCard  IsActiveMember  \\\n",
              "0       2       0.00              1          1               1   \n",
              "1       1   83807.86              1          0               1   \n",
              "2       8  159660.80              3          1               0   \n",
              "3       1       0.00              2          0               0   \n",
              "4       2  125510.82              1          1               1   \n",
              "\n",
              "   EstimatedSalary  Exited  \n",
              "0        101348.88       1  \n",
              "1        112542.58       0  \n",
              "2        113931.57       1  \n",
              "3         93826.63       0  \n",
              "4         79084.10       0  "
            ],
            "text/html": [
              "\n",
              "  <div id=\"df-5fa72b96-2c62-4bc1-80e4-3d2e932c7383\" class=\"colab-df-container\">\n",
              "    <div>\n",
              "<style scoped>\n",
              "    .dataframe tbody tr th:only-of-type {\n",
              "        vertical-align: middle;\n",
              "    }\n",
              "\n",
              "    .dataframe tbody tr th {\n",
              "        vertical-align: top;\n",
              "    }\n",
              "\n",
              "    .dataframe thead th {\n",
              "        text-align: right;\n",
              "    }\n",
              "</style>\n",
              "<table border=\"1\" class=\"dataframe\">\n",
              "  <thead>\n",
              "    <tr style=\"text-align: right;\">\n",
              "      <th></th>\n",
              "      <th>RowNumber</th>\n",
              "      <th>CustomerId</th>\n",
              "      <th>Surname</th>\n",
              "      <th>CreditScore</th>\n",
              "      <th>Geography</th>\n",
              "      <th>Gender</th>\n",
              "      <th>Age</th>\n",
              "      <th>Tenure</th>\n",
              "      <th>Balance</th>\n",
              "      <th>NumOfProducts</th>\n",
              "      <th>HasCrCard</th>\n",
              "      <th>IsActiveMember</th>\n",
              "      <th>EstimatedSalary</th>\n",
              "      <th>Exited</th>\n",
              "    </tr>\n",
              "  </thead>\n",
              "  <tbody>\n",
              "    <tr>\n",
              "      <th>0</th>\n",
              "      <td>1</td>\n",
              "      <td>15634602</td>\n",
              "      <td>Hargrave</td>\n",
              "      <td>619</td>\n",
              "      <td>France</td>\n",
              "      <td>Female</td>\n",
              "      <td>42</td>\n",
              "      <td>2</td>\n",
              "      <td>0.00</td>\n",
              "      <td>1</td>\n",
              "      <td>1</td>\n",
              "      <td>1</td>\n",
              "      <td>101348.88</td>\n",
              "      <td>1</td>\n",
              "    </tr>\n",
              "    <tr>\n",
              "      <th>1</th>\n",
              "      <td>2</td>\n",
              "      <td>15647311</td>\n",
              "      <td>Hill</td>\n",
              "      <td>608</td>\n",
              "      <td>Spain</td>\n",
              "      <td>Female</td>\n",
              "      <td>41</td>\n",
              "      <td>1</td>\n",
              "      <td>83807.86</td>\n",
              "      <td>1</td>\n",
              "      <td>0</td>\n",
              "      <td>1</td>\n",
              "      <td>112542.58</td>\n",
              "      <td>0</td>\n",
              "    </tr>\n",
              "    <tr>\n",
              "      <th>2</th>\n",
              "      <td>3</td>\n",
              "      <td>15619304</td>\n",
              "      <td>Onio</td>\n",
              "      <td>502</td>\n",
              "      <td>France</td>\n",
              "      <td>Female</td>\n",
              "      <td>42</td>\n",
              "      <td>8</td>\n",
              "      <td>159660.80</td>\n",
              "      <td>3</td>\n",
              "      <td>1</td>\n",
              "      <td>0</td>\n",
              "      <td>113931.57</td>\n",
              "      <td>1</td>\n",
              "    </tr>\n",
              "    <tr>\n",
              "      <th>3</th>\n",
              "      <td>4</td>\n",
              "      <td>15701354</td>\n",
              "      <td>Boni</td>\n",
              "      <td>699</td>\n",
              "      <td>France</td>\n",
              "      <td>Female</td>\n",
              "      <td>39</td>\n",
              "      <td>1</td>\n",
              "      <td>0.00</td>\n",
              "      <td>2</td>\n",
              "      <td>0</td>\n",
              "      <td>0</td>\n",
              "      <td>93826.63</td>\n",
              "      <td>0</td>\n",
              "    </tr>\n",
              "    <tr>\n",
              "      <th>4</th>\n",
              "      <td>5</td>\n",
              "      <td>15737888</td>\n",
              "      <td>Mitchell</td>\n",
              "      <td>850</td>\n",
              "      <td>Spain</td>\n",
              "      <td>Female</td>\n",
              "      <td>43</td>\n",
              "      <td>2</td>\n",
              "      <td>125510.82</td>\n",
              "      <td>1</td>\n",
              "      <td>1</td>\n",
              "      <td>1</td>\n",
              "      <td>79084.10</td>\n",
              "      <td>0</td>\n",
              "    </tr>\n",
              "  </tbody>\n",
              "</table>\n",
              "</div>\n",
              "    <div class=\"colab-df-buttons\">\n",
              "\n",
              "  <div class=\"colab-df-container\">\n",
              "    <button class=\"colab-df-convert\" onclick=\"convertToInteractive('df-5fa72b96-2c62-4bc1-80e4-3d2e932c7383')\"\n",
              "            title=\"Convert this dataframe to an interactive table.\"\n",
              "            style=\"display:none;\">\n",
              "\n",
              "  <svg xmlns=\"http://www.w3.org/2000/svg\" height=\"24px\" viewBox=\"0 -960 960 960\">\n",
              "    <path d=\"M120-120v-720h720v720H120Zm60-500h600v-160H180v160Zm220 220h160v-160H400v160Zm0 220h160v-160H400v160ZM180-400h160v-160H180v160Zm440 0h160v-160H620v160ZM180-180h160v-160H180v160Zm440 0h160v-160H620v160Z\"/>\n",
              "  </svg>\n",
              "    </button>\n",
              "\n",
              "  <style>\n",
              "    .colab-df-container {\n",
              "      display:flex;\n",
              "      gap: 12px;\n",
              "    }\n",
              "\n",
              "    .colab-df-convert {\n",
              "      background-color: #E8F0FE;\n",
              "      border: none;\n",
              "      border-radius: 50%;\n",
              "      cursor: pointer;\n",
              "      display: none;\n",
              "      fill: #1967D2;\n",
              "      height: 32px;\n",
              "      padding: 0 0 0 0;\n",
              "      width: 32px;\n",
              "    }\n",
              "\n",
              "    .colab-df-convert:hover {\n",
              "      background-color: #E2EBFA;\n",
              "      box-shadow: 0px 1px 2px rgba(60, 64, 67, 0.3), 0px 1px 3px 1px rgba(60, 64, 67, 0.15);\n",
              "      fill: #174EA6;\n",
              "    }\n",
              "\n",
              "    .colab-df-buttons div {\n",
              "      margin-bottom: 4px;\n",
              "    }\n",
              "\n",
              "    [theme=dark] .colab-df-convert {\n",
              "      background-color: #3B4455;\n",
              "      fill: #D2E3FC;\n",
              "    }\n",
              "\n",
              "    [theme=dark] .colab-df-convert:hover {\n",
              "      background-color: #434B5C;\n",
              "      box-shadow: 0px 1px 3px 1px rgba(0, 0, 0, 0.15);\n",
              "      filter: drop-shadow(0px 1px 2px rgba(0, 0, 0, 0.3));\n",
              "      fill: #FFFFFF;\n",
              "    }\n",
              "  </style>\n",
              "\n",
              "    <script>\n",
              "      const buttonEl =\n",
              "        document.querySelector('#df-5fa72b96-2c62-4bc1-80e4-3d2e932c7383 button.colab-df-convert');\n",
              "      buttonEl.style.display =\n",
              "        google.colab.kernel.accessAllowed ? 'block' : 'none';\n",
              "\n",
              "      async function convertToInteractive(key) {\n",
              "        const element = document.querySelector('#df-5fa72b96-2c62-4bc1-80e4-3d2e932c7383');\n",
              "        const dataTable =\n",
              "          await google.colab.kernel.invokeFunction('convertToInteractive',\n",
              "                                                    [key], {});\n",
              "        if (!dataTable) return;\n",
              "\n",
              "        const docLinkHtml = 'Like what you see? Visit the ' +\n",
              "          '<a target=\"_blank\" href=https://colab.research.google.com/notebooks/data_table.ipynb>data table notebook</a>'\n",
              "          + ' to learn more about interactive tables.';\n",
              "        element.innerHTML = '';\n",
              "        dataTable['output_type'] = 'display_data';\n",
              "        await google.colab.output.renderOutput(dataTable, element);\n",
              "        const docLink = document.createElement('div');\n",
              "        docLink.innerHTML = docLinkHtml;\n",
              "        element.appendChild(docLink);\n",
              "      }\n",
              "    </script>\n",
              "  </div>\n",
              "\n",
              "\n",
              "<div id=\"df-17b897db-5f7e-4045-bb45-e46734a6e7ad\">\n",
              "  <button class=\"colab-df-quickchart\" onclick=\"quickchart('df-17b897db-5f7e-4045-bb45-e46734a6e7ad')\"\n",
              "            title=\"Suggest charts\"\n",
              "            style=\"display:none;\">\n",
              "\n",
              "<svg xmlns=\"http://www.w3.org/2000/svg\" height=\"24px\"viewBox=\"0 0 24 24\"\n",
              "     width=\"24px\">\n",
              "    <g>\n",
              "        <path d=\"M19 3H5c-1.1 0-2 .9-2 2v14c0 1.1.9 2 2 2h14c1.1 0 2-.9 2-2V5c0-1.1-.9-2-2-2zM9 17H7v-7h2v7zm4 0h-2V7h2v10zm4 0h-2v-4h2v4z\"/>\n",
              "    </g>\n",
              "</svg>\n",
              "  </button>\n",
              "\n",
              "<style>\n",
              "  .colab-df-quickchart {\n",
              "      --bg-color: #E8F0FE;\n",
              "      --fill-color: #1967D2;\n",
              "      --hover-bg-color: #E2EBFA;\n",
              "      --hover-fill-color: #174EA6;\n",
              "      --disabled-fill-color: #AAA;\n",
              "      --disabled-bg-color: #DDD;\n",
              "  }\n",
              "\n",
              "  [theme=dark] .colab-df-quickchart {\n",
              "      --bg-color: #3B4455;\n",
              "      --fill-color: #D2E3FC;\n",
              "      --hover-bg-color: #434B5C;\n",
              "      --hover-fill-color: #FFFFFF;\n",
              "      --disabled-bg-color: #3B4455;\n",
              "      --disabled-fill-color: #666;\n",
              "  }\n",
              "\n",
              "  .colab-df-quickchart {\n",
              "    background-color: var(--bg-color);\n",
              "    border: none;\n",
              "    border-radius: 50%;\n",
              "    cursor: pointer;\n",
              "    display: none;\n",
              "    fill: var(--fill-color);\n",
              "    height: 32px;\n",
              "    padding: 0;\n",
              "    width: 32px;\n",
              "  }\n",
              "\n",
              "  .colab-df-quickchart:hover {\n",
              "    background-color: var(--hover-bg-color);\n",
              "    box-shadow: 0 1px 2px rgba(60, 64, 67, 0.3), 0 1px 3px 1px rgba(60, 64, 67, 0.15);\n",
              "    fill: var(--button-hover-fill-color);\n",
              "  }\n",
              "\n",
              "  .colab-df-quickchart-complete:disabled,\n",
              "  .colab-df-quickchart-complete:disabled:hover {\n",
              "    background-color: var(--disabled-bg-color);\n",
              "    fill: var(--disabled-fill-color);\n",
              "    box-shadow: none;\n",
              "  }\n",
              "\n",
              "  .colab-df-spinner {\n",
              "    border: 2px solid var(--fill-color);\n",
              "    border-color: transparent;\n",
              "    border-bottom-color: var(--fill-color);\n",
              "    animation:\n",
              "      spin 1s steps(1) infinite;\n",
              "  }\n",
              "\n",
              "  @keyframes spin {\n",
              "    0% {\n",
              "      border-color: transparent;\n",
              "      border-bottom-color: var(--fill-color);\n",
              "      border-left-color: var(--fill-color);\n",
              "    }\n",
              "    20% {\n",
              "      border-color: transparent;\n",
              "      border-left-color: var(--fill-color);\n",
              "      border-top-color: var(--fill-color);\n",
              "    }\n",
              "    30% {\n",
              "      border-color: transparent;\n",
              "      border-left-color: var(--fill-color);\n",
              "      border-top-color: var(--fill-color);\n",
              "      border-right-color: var(--fill-color);\n",
              "    }\n",
              "    40% {\n",
              "      border-color: transparent;\n",
              "      border-right-color: var(--fill-color);\n",
              "      border-top-color: var(--fill-color);\n",
              "    }\n",
              "    60% {\n",
              "      border-color: transparent;\n",
              "      border-right-color: var(--fill-color);\n",
              "    }\n",
              "    80% {\n",
              "      border-color: transparent;\n",
              "      border-right-color: var(--fill-color);\n",
              "      border-bottom-color: var(--fill-color);\n",
              "    }\n",
              "    90% {\n",
              "      border-color: transparent;\n",
              "      border-bottom-color: var(--fill-color);\n",
              "    }\n",
              "  }\n",
              "</style>\n",
              "\n",
              "  <script>\n",
              "    async function quickchart(key) {\n",
              "      const quickchartButtonEl =\n",
              "        document.querySelector('#' + key + ' button');\n",
              "      quickchartButtonEl.disabled = true;  // To prevent multiple clicks.\n",
              "      quickchartButtonEl.classList.add('colab-df-spinner');\n",
              "      try {\n",
              "        const charts = await google.colab.kernel.invokeFunction(\n",
              "            'suggestCharts', [key], {});\n",
              "      } catch (error) {\n",
              "        console.error('Error during call to suggestCharts:', error);\n",
              "      }\n",
              "      quickchartButtonEl.classList.remove('colab-df-spinner');\n",
              "      quickchartButtonEl.classList.add('colab-df-quickchart-complete');\n",
              "    }\n",
              "    (() => {\n",
              "      let quickchartButtonEl =\n",
              "        document.querySelector('#df-17b897db-5f7e-4045-bb45-e46734a6e7ad button');\n",
              "      quickchartButtonEl.style.display =\n",
              "        google.colab.kernel.accessAllowed ? 'block' : 'none';\n",
              "    })();\n",
              "  </script>\n",
              "</div>\n",
              "\n",
              "    </div>\n",
              "  </div>\n"
            ],
            "application/vnd.google.colaboratory.intrinsic+json": {
              "type": "dataframe",
              "variable_name": "data",
              "summary": "{\n  \"name\": \"data\",\n  \"rows\": 10000,\n  \"fields\": [\n    {\n      \"column\": \"RowNumber\",\n      \"properties\": {\n        \"dtype\": \"number\",\n        \"std\": 2886,\n        \"min\": 1,\n        \"max\": 10000,\n        \"num_unique_values\": 10000,\n        \"samples\": [\n          6253,\n          4685,\n          1732\n        ],\n        \"semantic_type\": \"\",\n        \"description\": \"\"\n      }\n    },\n    {\n      \"column\": \"CustomerId\",\n      \"properties\": {\n        \"dtype\": \"number\",\n        \"std\": 71936,\n        \"min\": 15565701,\n        \"max\": 15815690,\n        \"num_unique_values\": 10000,\n        \"samples\": [\n          15687492,\n          15736963,\n          15721730\n        ],\n        \"semantic_type\": \"\",\n        \"description\": \"\"\n      }\n    },\n    {\n      \"column\": \"Surname\",\n      \"properties\": {\n        \"dtype\": \"category\",\n        \"num_unique_values\": 2932,\n        \"samples\": [\n          \"McGuirk\",\n          \"Torkelson\",\n          \"Rapuluchukwu\"\n        ],\n        \"semantic_type\": \"\",\n        \"description\": \"\"\n      }\n    },\n    {\n      \"column\": \"CreditScore\",\n      \"properties\": {\n        \"dtype\": \"number\",\n        \"std\": 96,\n        \"min\": 350,\n        \"max\": 850,\n        \"num_unique_values\": 460,\n        \"samples\": [\n          754,\n          533,\n          744\n        ],\n        \"semantic_type\": \"\",\n        \"description\": \"\"\n      }\n    },\n    {\n      \"column\": \"Geography\",\n      \"properties\": {\n        \"dtype\": \"category\",\n        \"num_unique_values\": 3,\n        \"samples\": [\n          \"France\",\n          \"Spain\",\n          \"Germany\"\n        ],\n        \"semantic_type\": \"\",\n        \"description\": \"\"\n      }\n    },\n    {\n      \"column\": \"Gender\",\n      \"properties\": {\n        \"dtype\": \"category\",\n        \"num_unique_values\": 2,\n        \"samples\": [\n          \"Male\",\n          \"Female\"\n        ],\n        \"semantic_type\": \"\",\n        \"description\": \"\"\n      }\n    },\n    {\n      \"column\": \"Age\",\n      \"properties\": {\n        \"dtype\": \"number\",\n        \"std\": 10,\n        \"min\": 18,\n        \"max\": 92,\n        \"num_unique_values\": 70,\n        \"samples\": [\n          61,\n          42\n        ],\n        \"semantic_type\": \"\",\n        \"description\": \"\"\n      }\n    },\n    {\n      \"column\": \"Tenure\",\n      \"properties\": {\n        \"dtype\": \"number\",\n        \"std\": 2,\n        \"min\": 0,\n        \"max\": 10,\n        \"num_unique_values\": 11,\n        \"samples\": [\n          6,\n          2\n        ],\n        \"semantic_type\": \"\",\n        \"description\": \"\"\n      }\n    },\n    {\n      \"column\": \"Balance\",\n      \"properties\": {\n        \"dtype\": \"number\",\n        \"std\": 62397.405202385955,\n        \"min\": 0.0,\n        \"max\": 250898.09,\n        \"num_unique_values\": 6382,\n        \"samples\": [\n          117707.18,\n          133050.97\n        ],\n        \"semantic_type\": \"\",\n        \"description\": \"\"\n      }\n    },\n    {\n      \"column\": \"NumOfProducts\",\n      \"properties\": {\n        \"dtype\": \"number\",\n        \"std\": 0,\n        \"min\": 1,\n        \"max\": 4,\n        \"num_unique_values\": 4,\n        \"samples\": [\n          3,\n          4\n        ],\n        \"semantic_type\": \"\",\n        \"description\": \"\"\n      }\n    },\n    {\n      \"column\": \"HasCrCard\",\n      \"properties\": {\n        \"dtype\": \"number\",\n        \"std\": 0,\n        \"min\": 0,\n        \"max\": 1,\n        \"num_unique_values\": 2,\n        \"samples\": [\n          0,\n          1\n        ],\n        \"semantic_type\": \"\",\n        \"description\": \"\"\n      }\n    },\n    {\n      \"column\": \"IsActiveMember\",\n      \"properties\": {\n        \"dtype\": \"number\",\n        \"std\": 0,\n        \"min\": 0,\n        \"max\": 1,\n        \"num_unique_values\": 2,\n        \"samples\": [\n          0,\n          1\n        ],\n        \"semantic_type\": \"\",\n        \"description\": \"\"\n      }\n    },\n    {\n      \"column\": \"EstimatedSalary\",\n      \"properties\": {\n        \"dtype\": \"number\",\n        \"std\": 57510.49281769816,\n        \"min\": 11.58,\n        \"max\": 199992.48,\n        \"num_unique_values\": 9999,\n        \"samples\": [\n          100809.99,\n          95273.73\n        ],\n        \"semantic_type\": \"\",\n        \"description\": \"\"\n      }\n    },\n    {\n      \"column\": \"Exited\",\n      \"properties\": {\n        \"dtype\": \"number\",\n        \"std\": 0,\n        \"min\": 0,\n        \"max\": 1,\n        \"num_unique_values\": 2,\n        \"samples\": [\n          0,\n          1\n        ],\n        \"semantic_type\": \"\",\n        \"description\": \"\"\n      }\n    }\n  ]\n}"
            }
          },
          "metadata": {},
          "execution_count": 3
        }
      ],
      "source": [
        "data.head()"
      ]
    },
    {
      "cell_type": "markdown",
      "id": "located-annual",
      "metadata": {
        "papermill": {
          "duration": 0.027886,
          "end_time": "2024-03-08T19:56:21.197020",
          "exception": false,
          "start_time": "2024-03-08T19:56:21.169134",
          "status": "completed"
        },
        "tags": [],
        "id": "located-annual"
      },
      "source": [
        "*we have to predict the customer in the bank that will be exited in the future or not.*"
      ]
    },
    {
      "cell_type": "code",
      "execution_count": 4,
      "id": "governing-interview",
      "metadata": {
        "execution": {
          "iopub.execute_input": "2024-03-08T19:56:21.256883Z",
          "iopub.status.busy": "2024-03-08T19:56:21.256254Z",
          "iopub.status.idle": "2024-03-08T19:56:21.261067Z",
          "shell.execute_reply": "2024-03-08T19:56:21.261542Z",
          "shell.execute_reply.started": "2024-03-08T16:34:09.738707Z"
        },
        "papermill": {
          "duration": 0.036105,
          "end_time": "2024-03-08T19:56:21.261714",
          "exception": false,
          "start_time": "2024-03-08T19:56:21.225609",
          "status": "completed"
        },
        "tags": [],
        "id": "governing-interview"
      },
      "outputs": [],
      "source": [
        "# independent feature:\n",
        "X = data.iloc[:, 3:13]"
      ]
    },
    {
      "cell_type": "code",
      "execution_count": 5,
      "id": "unlikely-penalty",
      "metadata": {
        "execution": {
          "iopub.execute_input": "2024-03-08T19:56:21.322382Z",
          "iopub.status.busy": "2024-03-08T19:56:21.321674Z",
          "iopub.status.idle": "2024-03-08T19:56:21.326535Z",
          "shell.execute_reply": "2024-03-08T19:56:21.328171Z",
          "shell.execute_reply.started": "2024-03-08T16:34:09.745714Z"
        },
        "papermill": {
          "duration": 0.038277,
          "end_time": "2024-03-08T19:56:21.328400",
          "exception": false,
          "start_time": "2024-03-08T19:56:21.290123",
          "status": "completed"
        },
        "tags": [],
        "id": "unlikely-penalty"
      },
      "outputs": [],
      "source": [
        "# dependent feature :\n",
        "y = data.iloc[:, 13]"
      ]
    },
    {
      "cell_type": "code",
      "execution_count": 6,
      "id": "annual-borough",
      "metadata": {
        "execution": {
          "iopub.execute_input": "2024-03-08T19:56:21.412529Z",
          "iopub.status.busy": "2024-03-08T19:56:21.411868Z",
          "iopub.status.idle": "2024-03-08T19:56:21.416964Z",
          "shell.execute_reply": "2024-03-08T19:56:21.417521Z",
          "shell.execute_reply.started": "2024-03-08T16:34:09.762345Z"
        },
        "papermill": {
          "duration": 0.054058,
          "end_time": "2024-03-08T19:56:21.417723",
          "exception": false,
          "start_time": "2024-03-08T19:56:21.363665",
          "status": "completed"
        },
        "tags": [],
        "colab": {
          "base_uri": "https://localhost:8080/",
          "height": 206
        },
        "id": "annual-borough",
        "outputId": "b6f98266-2acf-474c-836b-98ed8a1906af"
      },
      "outputs": [
        {
          "output_type": "execute_result",
          "data": {
            "text/plain": [
              "   CreditScore Geography  Gender  Age  Tenure    Balance  NumOfProducts  \\\n",
              "0          619    France  Female   42       2       0.00              1   \n",
              "1          608     Spain  Female   41       1   83807.86              1   \n",
              "2          502    France  Female   42       8  159660.80              3   \n",
              "3          699    France  Female   39       1       0.00              2   \n",
              "4          850     Spain  Female   43       2  125510.82              1   \n",
              "\n",
              "   HasCrCard  IsActiveMember  EstimatedSalary  \n",
              "0          1               1        101348.88  \n",
              "1          0               1        112542.58  \n",
              "2          1               0        113931.57  \n",
              "3          0               0         93826.63  \n",
              "4          1               1         79084.10  "
            ],
            "text/html": [
              "\n",
              "  <div id=\"df-dd1c82ed-192d-42dc-a821-b0655f946577\" class=\"colab-df-container\">\n",
              "    <div>\n",
              "<style scoped>\n",
              "    .dataframe tbody tr th:only-of-type {\n",
              "        vertical-align: middle;\n",
              "    }\n",
              "\n",
              "    .dataframe tbody tr th {\n",
              "        vertical-align: top;\n",
              "    }\n",
              "\n",
              "    .dataframe thead th {\n",
              "        text-align: right;\n",
              "    }\n",
              "</style>\n",
              "<table border=\"1\" class=\"dataframe\">\n",
              "  <thead>\n",
              "    <tr style=\"text-align: right;\">\n",
              "      <th></th>\n",
              "      <th>CreditScore</th>\n",
              "      <th>Geography</th>\n",
              "      <th>Gender</th>\n",
              "      <th>Age</th>\n",
              "      <th>Tenure</th>\n",
              "      <th>Balance</th>\n",
              "      <th>NumOfProducts</th>\n",
              "      <th>HasCrCard</th>\n",
              "      <th>IsActiveMember</th>\n",
              "      <th>EstimatedSalary</th>\n",
              "    </tr>\n",
              "  </thead>\n",
              "  <tbody>\n",
              "    <tr>\n",
              "      <th>0</th>\n",
              "      <td>619</td>\n",
              "      <td>France</td>\n",
              "      <td>Female</td>\n",
              "      <td>42</td>\n",
              "      <td>2</td>\n",
              "      <td>0.00</td>\n",
              "      <td>1</td>\n",
              "      <td>1</td>\n",
              "      <td>1</td>\n",
              "      <td>101348.88</td>\n",
              "    </tr>\n",
              "    <tr>\n",
              "      <th>1</th>\n",
              "      <td>608</td>\n",
              "      <td>Spain</td>\n",
              "      <td>Female</td>\n",
              "      <td>41</td>\n",
              "      <td>1</td>\n",
              "      <td>83807.86</td>\n",
              "      <td>1</td>\n",
              "      <td>0</td>\n",
              "      <td>1</td>\n",
              "      <td>112542.58</td>\n",
              "    </tr>\n",
              "    <tr>\n",
              "      <th>2</th>\n",
              "      <td>502</td>\n",
              "      <td>France</td>\n",
              "      <td>Female</td>\n",
              "      <td>42</td>\n",
              "      <td>8</td>\n",
              "      <td>159660.80</td>\n",
              "      <td>3</td>\n",
              "      <td>1</td>\n",
              "      <td>0</td>\n",
              "      <td>113931.57</td>\n",
              "    </tr>\n",
              "    <tr>\n",
              "      <th>3</th>\n",
              "      <td>699</td>\n",
              "      <td>France</td>\n",
              "      <td>Female</td>\n",
              "      <td>39</td>\n",
              "      <td>1</td>\n",
              "      <td>0.00</td>\n",
              "      <td>2</td>\n",
              "      <td>0</td>\n",
              "      <td>0</td>\n",
              "      <td>93826.63</td>\n",
              "    </tr>\n",
              "    <tr>\n",
              "      <th>4</th>\n",
              "      <td>850</td>\n",
              "      <td>Spain</td>\n",
              "      <td>Female</td>\n",
              "      <td>43</td>\n",
              "      <td>2</td>\n",
              "      <td>125510.82</td>\n",
              "      <td>1</td>\n",
              "      <td>1</td>\n",
              "      <td>1</td>\n",
              "      <td>79084.10</td>\n",
              "    </tr>\n",
              "  </tbody>\n",
              "</table>\n",
              "</div>\n",
              "    <div class=\"colab-df-buttons\">\n",
              "\n",
              "  <div class=\"colab-df-container\">\n",
              "    <button class=\"colab-df-convert\" onclick=\"convertToInteractive('df-dd1c82ed-192d-42dc-a821-b0655f946577')\"\n",
              "            title=\"Convert this dataframe to an interactive table.\"\n",
              "            style=\"display:none;\">\n",
              "\n",
              "  <svg xmlns=\"http://www.w3.org/2000/svg\" height=\"24px\" viewBox=\"0 -960 960 960\">\n",
              "    <path d=\"M120-120v-720h720v720H120Zm60-500h600v-160H180v160Zm220 220h160v-160H400v160Zm0 220h160v-160H400v160ZM180-400h160v-160H180v160Zm440 0h160v-160H620v160ZM180-180h160v-160H180v160Zm440 0h160v-160H620v160Z\"/>\n",
              "  </svg>\n",
              "    </button>\n",
              "\n",
              "  <style>\n",
              "    .colab-df-container {\n",
              "      display:flex;\n",
              "      gap: 12px;\n",
              "    }\n",
              "\n",
              "    .colab-df-convert {\n",
              "      background-color: #E8F0FE;\n",
              "      border: none;\n",
              "      border-radius: 50%;\n",
              "      cursor: pointer;\n",
              "      display: none;\n",
              "      fill: #1967D2;\n",
              "      height: 32px;\n",
              "      padding: 0 0 0 0;\n",
              "      width: 32px;\n",
              "    }\n",
              "\n",
              "    .colab-df-convert:hover {\n",
              "      background-color: #E2EBFA;\n",
              "      box-shadow: 0px 1px 2px rgba(60, 64, 67, 0.3), 0px 1px 3px 1px rgba(60, 64, 67, 0.15);\n",
              "      fill: #174EA6;\n",
              "    }\n",
              "\n",
              "    .colab-df-buttons div {\n",
              "      margin-bottom: 4px;\n",
              "    }\n",
              "\n",
              "    [theme=dark] .colab-df-convert {\n",
              "      background-color: #3B4455;\n",
              "      fill: #D2E3FC;\n",
              "    }\n",
              "\n",
              "    [theme=dark] .colab-df-convert:hover {\n",
              "      background-color: #434B5C;\n",
              "      box-shadow: 0px 1px 3px 1px rgba(0, 0, 0, 0.15);\n",
              "      filter: drop-shadow(0px 1px 2px rgba(0, 0, 0, 0.3));\n",
              "      fill: #FFFFFF;\n",
              "    }\n",
              "  </style>\n",
              "\n",
              "    <script>\n",
              "      const buttonEl =\n",
              "        document.querySelector('#df-dd1c82ed-192d-42dc-a821-b0655f946577 button.colab-df-convert');\n",
              "      buttonEl.style.display =\n",
              "        google.colab.kernel.accessAllowed ? 'block' : 'none';\n",
              "\n",
              "      async function convertToInteractive(key) {\n",
              "        const element = document.querySelector('#df-dd1c82ed-192d-42dc-a821-b0655f946577');\n",
              "        const dataTable =\n",
              "          await google.colab.kernel.invokeFunction('convertToInteractive',\n",
              "                                                    [key], {});\n",
              "        if (!dataTable) return;\n",
              "\n",
              "        const docLinkHtml = 'Like what you see? Visit the ' +\n",
              "          '<a target=\"_blank\" href=https://colab.research.google.com/notebooks/data_table.ipynb>data table notebook</a>'\n",
              "          + ' to learn more about interactive tables.';\n",
              "        element.innerHTML = '';\n",
              "        dataTable['output_type'] = 'display_data';\n",
              "        await google.colab.output.renderOutput(dataTable, element);\n",
              "        const docLink = document.createElement('div');\n",
              "        docLink.innerHTML = docLinkHtml;\n",
              "        element.appendChild(docLink);\n",
              "      }\n",
              "    </script>\n",
              "  </div>\n",
              "\n",
              "\n",
              "<div id=\"df-c6547ba2-8926-4a44-8dc7-640b710d7e81\">\n",
              "  <button class=\"colab-df-quickchart\" onclick=\"quickchart('df-c6547ba2-8926-4a44-8dc7-640b710d7e81')\"\n",
              "            title=\"Suggest charts\"\n",
              "            style=\"display:none;\">\n",
              "\n",
              "<svg xmlns=\"http://www.w3.org/2000/svg\" height=\"24px\"viewBox=\"0 0 24 24\"\n",
              "     width=\"24px\">\n",
              "    <g>\n",
              "        <path d=\"M19 3H5c-1.1 0-2 .9-2 2v14c0 1.1.9 2 2 2h14c1.1 0 2-.9 2-2V5c0-1.1-.9-2-2-2zM9 17H7v-7h2v7zm4 0h-2V7h2v10zm4 0h-2v-4h2v4z\"/>\n",
              "    </g>\n",
              "</svg>\n",
              "  </button>\n",
              "\n",
              "<style>\n",
              "  .colab-df-quickchart {\n",
              "      --bg-color: #E8F0FE;\n",
              "      --fill-color: #1967D2;\n",
              "      --hover-bg-color: #E2EBFA;\n",
              "      --hover-fill-color: #174EA6;\n",
              "      --disabled-fill-color: #AAA;\n",
              "      --disabled-bg-color: #DDD;\n",
              "  }\n",
              "\n",
              "  [theme=dark] .colab-df-quickchart {\n",
              "      --bg-color: #3B4455;\n",
              "      --fill-color: #D2E3FC;\n",
              "      --hover-bg-color: #434B5C;\n",
              "      --hover-fill-color: #FFFFFF;\n",
              "      --disabled-bg-color: #3B4455;\n",
              "      --disabled-fill-color: #666;\n",
              "  }\n",
              "\n",
              "  .colab-df-quickchart {\n",
              "    background-color: var(--bg-color);\n",
              "    border: none;\n",
              "    border-radius: 50%;\n",
              "    cursor: pointer;\n",
              "    display: none;\n",
              "    fill: var(--fill-color);\n",
              "    height: 32px;\n",
              "    padding: 0;\n",
              "    width: 32px;\n",
              "  }\n",
              "\n",
              "  .colab-df-quickchart:hover {\n",
              "    background-color: var(--hover-bg-color);\n",
              "    box-shadow: 0 1px 2px rgba(60, 64, 67, 0.3), 0 1px 3px 1px rgba(60, 64, 67, 0.15);\n",
              "    fill: var(--button-hover-fill-color);\n",
              "  }\n",
              "\n",
              "  .colab-df-quickchart-complete:disabled,\n",
              "  .colab-df-quickchart-complete:disabled:hover {\n",
              "    background-color: var(--disabled-bg-color);\n",
              "    fill: var(--disabled-fill-color);\n",
              "    box-shadow: none;\n",
              "  }\n",
              "\n",
              "  .colab-df-spinner {\n",
              "    border: 2px solid var(--fill-color);\n",
              "    border-color: transparent;\n",
              "    border-bottom-color: var(--fill-color);\n",
              "    animation:\n",
              "      spin 1s steps(1) infinite;\n",
              "  }\n",
              "\n",
              "  @keyframes spin {\n",
              "    0% {\n",
              "      border-color: transparent;\n",
              "      border-bottom-color: var(--fill-color);\n",
              "      border-left-color: var(--fill-color);\n",
              "    }\n",
              "    20% {\n",
              "      border-color: transparent;\n",
              "      border-left-color: var(--fill-color);\n",
              "      border-top-color: var(--fill-color);\n",
              "    }\n",
              "    30% {\n",
              "      border-color: transparent;\n",
              "      border-left-color: var(--fill-color);\n",
              "      border-top-color: var(--fill-color);\n",
              "      border-right-color: var(--fill-color);\n",
              "    }\n",
              "    40% {\n",
              "      border-color: transparent;\n",
              "      border-right-color: var(--fill-color);\n",
              "      border-top-color: var(--fill-color);\n",
              "    }\n",
              "    60% {\n",
              "      border-color: transparent;\n",
              "      border-right-color: var(--fill-color);\n",
              "    }\n",
              "    80% {\n",
              "      border-color: transparent;\n",
              "      border-right-color: var(--fill-color);\n",
              "      border-bottom-color: var(--fill-color);\n",
              "    }\n",
              "    90% {\n",
              "      border-color: transparent;\n",
              "      border-bottom-color: var(--fill-color);\n",
              "    }\n",
              "  }\n",
              "</style>\n",
              "\n",
              "  <script>\n",
              "    async function quickchart(key) {\n",
              "      const quickchartButtonEl =\n",
              "        document.querySelector('#' + key + ' button');\n",
              "      quickchartButtonEl.disabled = true;  // To prevent multiple clicks.\n",
              "      quickchartButtonEl.classList.add('colab-df-spinner');\n",
              "      try {\n",
              "        const charts = await google.colab.kernel.invokeFunction(\n",
              "            'suggestCharts', [key], {});\n",
              "      } catch (error) {\n",
              "        console.error('Error during call to suggestCharts:', error);\n",
              "      }\n",
              "      quickchartButtonEl.classList.remove('colab-df-spinner');\n",
              "      quickchartButtonEl.classList.add('colab-df-quickchart-complete');\n",
              "    }\n",
              "    (() => {\n",
              "      let quickchartButtonEl =\n",
              "        document.querySelector('#df-c6547ba2-8926-4a44-8dc7-640b710d7e81 button');\n",
              "      quickchartButtonEl.style.display =\n",
              "        google.colab.kernel.accessAllowed ? 'block' : 'none';\n",
              "    })();\n",
              "  </script>\n",
              "</div>\n",
              "\n",
              "    </div>\n",
              "  </div>\n"
            ],
            "application/vnd.google.colaboratory.intrinsic+json": {
              "type": "dataframe",
              "variable_name": "X",
              "summary": "{\n  \"name\": \"X\",\n  \"rows\": 10000,\n  \"fields\": [\n    {\n      \"column\": \"CreditScore\",\n      \"properties\": {\n        \"dtype\": \"number\",\n        \"std\": 96,\n        \"min\": 350,\n        \"max\": 850,\n        \"num_unique_values\": 460,\n        \"samples\": [\n          754,\n          533,\n          744\n        ],\n        \"semantic_type\": \"\",\n        \"description\": \"\"\n      }\n    },\n    {\n      \"column\": \"Geography\",\n      \"properties\": {\n        \"dtype\": \"category\",\n        \"num_unique_values\": 3,\n        \"samples\": [\n          \"France\",\n          \"Spain\",\n          \"Germany\"\n        ],\n        \"semantic_type\": \"\",\n        \"description\": \"\"\n      }\n    },\n    {\n      \"column\": \"Gender\",\n      \"properties\": {\n        \"dtype\": \"category\",\n        \"num_unique_values\": 2,\n        \"samples\": [\n          \"Male\",\n          \"Female\"\n        ],\n        \"semantic_type\": \"\",\n        \"description\": \"\"\n      }\n    },\n    {\n      \"column\": \"Age\",\n      \"properties\": {\n        \"dtype\": \"number\",\n        \"std\": 10,\n        \"min\": 18,\n        \"max\": 92,\n        \"num_unique_values\": 70,\n        \"samples\": [\n          61,\n          42\n        ],\n        \"semantic_type\": \"\",\n        \"description\": \"\"\n      }\n    },\n    {\n      \"column\": \"Tenure\",\n      \"properties\": {\n        \"dtype\": \"number\",\n        \"std\": 2,\n        \"min\": 0,\n        \"max\": 10,\n        \"num_unique_values\": 11,\n        \"samples\": [\n          6,\n          2\n        ],\n        \"semantic_type\": \"\",\n        \"description\": \"\"\n      }\n    },\n    {\n      \"column\": \"Balance\",\n      \"properties\": {\n        \"dtype\": \"number\",\n        \"std\": 62397.405202385955,\n        \"min\": 0.0,\n        \"max\": 250898.09,\n        \"num_unique_values\": 6382,\n        \"samples\": [\n          117707.18,\n          133050.97\n        ],\n        \"semantic_type\": \"\",\n        \"description\": \"\"\n      }\n    },\n    {\n      \"column\": \"NumOfProducts\",\n      \"properties\": {\n        \"dtype\": \"number\",\n        \"std\": 0,\n        \"min\": 1,\n        \"max\": 4,\n        \"num_unique_values\": 4,\n        \"samples\": [\n          3,\n          4\n        ],\n        \"semantic_type\": \"\",\n        \"description\": \"\"\n      }\n    },\n    {\n      \"column\": \"HasCrCard\",\n      \"properties\": {\n        \"dtype\": \"number\",\n        \"std\": 0,\n        \"min\": 0,\n        \"max\": 1,\n        \"num_unique_values\": 2,\n        \"samples\": [\n          0,\n          1\n        ],\n        \"semantic_type\": \"\",\n        \"description\": \"\"\n      }\n    },\n    {\n      \"column\": \"IsActiveMember\",\n      \"properties\": {\n        \"dtype\": \"number\",\n        \"std\": 0,\n        \"min\": 0,\n        \"max\": 1,\n        \"num_unique_values\": 2,\n        \"samples\": [\n          0,\n          1\n        ],\n        \"semantic_type\": \"\",\n        \"description\": \"\"\n      }\n    },\n    {\n      \"column\": \"EstimatedSalary\",\n      \"properties\": {\n        \"dtype\": \"number\",\n        \"std\": 57510.49281769816,\n        \"min\": 11.58,\n        \"max\": 199992.48,\n        \"num_unique_values\": 9999,\n        \"samples\": [\n          100809.99,\n          95273.73\n        ],\n        \"semantic_type\": \"\",\n        \"description\": \"\"\n      }\n    }\n  ]\n}"
            }
          },
          "metadata": {},
          "execution_count": 6
        }
      ],
      "source": [
        "X.head()"
      ]
    },
    {
      "cell_type": "code",
      "execution_count": 7,
      "id": "indonesian-prayer",
      "metadata": {
        "execution": {
          "iopub.execute_input": "2024-03-08T19:56:21.482657Z",
          "iopub.status.busy": "2024-03-08T19:56:21.482045Z",
          "iopub.status.idle": "2024-03-08T19:56:21.486711Z",
          "shell.execute_reply": "2024-03-08T19:56:21.487175Z",
          "shell.execute_reply.started": "2024-03-08T16:34:09.794030Z"
        },
        "papermill": {
          "duration": 0.036279,
          "end_time": "2024-03-08T19:56:21.487345",
          "exception": false,
          "start_time": "2024-03-08T19:56:21.451066",
          "status": "completed"
        },
        "tags": [],
        "colab": {
          "base_uri": "https://localhost:8080/"
        },
        "id": "indonesian-prayer",
        "outputId": "5cfa59f8-ece4-47a8-9067-861725e39f71"
      },
      "outputs": [
        {
          "output_type": "execute_result",
          "data": {
            "text/plain": [
              "0    1\n",
              "1    0\n",
              "2    1\n",
              "3    0\n",
              "4    0\n",
              "Name: Exited, dtype: int64"
            ]
          },
          "metadata": {},
          "execution_count": 7
        }
      ],
      "source": [
        "y.head()"
      ]
    },
    {
      "cell_type": "code",
      "execution_count": 8,
      "id": "furnished-slovenia",
      "metadata": {
        "execution": {
          "iopub.execute_input": "2024-03-08T19:56:21.547464Z",
          "iopub.status.busy": "2024-03-08T19:56:21.546898Z",
          "iopub.status.idle": "2024-03-08T19:56:21.560123Z",
          "shell.execute_reply": "2024-03-08T19:56:21.559587Z",
          "shell.execute_reply.started": "2024-03-08T16:34:09.812209Z"
        },
        "papermill": {
          "duration": 0.044555,
          "end_time": "2024-03-08T19:56:21.560241",
          "exception": false,
          "start_time": "2024-03-08T19:56:21.515686",
          "status": "completed"
        },
        "tags": [],
        "id": "furnished-slovenia"
      },
      "outputs": [],
      "source": [
        "# Create dummy variables :\n",
        "geography=pd.get_dummies(X[\"Geography\"],drop_first=True)"
      ]
    },
    {
      "cell_type": "code",
      "execution_count": 9,
      "id": "veterinary-plymouth",
      "metadata": {
        "execution": {
          "iopub.execute_input": "2024-03-08T19:56:21.621697Z",
          "iopub.status.busy": "2024-03-08T19:56:21.621157Z",
          "iopub.status.idle": "2024-03-08T19:56:21.624212Z",
          "shell.execute_reply": "2024-03-08T19:56:21.624708Z",
          "shell.execute_reply.started": "2024-03-08T16:34:09.836553Z"
        },
        "papermill": {
          "duration": 0.035901,
          "end_time": "2024-03-08T19:56:21.624842",
          "exception": false,
          "start_time": "2024-03-08T19:56:21.588941",
          "status": "completed"
        },
        "tags": [],
        "id": "veterinary-plymouth"
      },
      "outputs": [],
      "source": [
        "gender=pd.get_dummies(X['Gender'],drop_first=True)"
      ]
    },
    {
      "cell_type": "code",
      "execution_count": 10,
      "id": "perfect-alexander",
      "metadata": {
        "execution": {
          "iopub.execute_input": "2024-03-08T19:56:21.687867Z",
          "iopub.status.busy": "2024-03-08T19:56:21.687367Z",
          "iopub.status.idle": "2024-03-08T19:56:21.695494Z",
          "shell.execute_reply": "2024-03-08T19:56:21.695970Z",
          "shell.execute_reply.started": "2024-03-08T16:34:09.856877Z"
        },
        "papermill": {
          "duration": 0.039904,
          "end_time": "2024-03-08T19:56:21.696102",
          "exception": false,
          "start_time": "2024-03-08T19:56:21.656198",
          "status": "completed"
        },
        "tags": [],
        "id": "perfect-alexander"
      },
      "outputs": [],
      "source": [
        "# Concatenate the Data Frames :\n",
        "X=pd.concat([X,geography,gender],axis=1)"
      ]
    },
    {
      "cell_type": "code",
      "execution_count": 11,
      "id": "prescribed-hunger",
      "metadata": {
        "execution": {
          "iopub.execute_input": "2024-03-08T19:56:21.757901Z",
          "iopub.status.busy": "2024-03-08T19:56:21.757376Z",
          "iopub.status.idle": "2024-03-08T19:56:21.771615Z",
          "shell.execute_reply": "2024-03-08T19:56:21.772183Z",
          "shell.execute_reply.started": "2024-03-08T16:34:09.874597Z"
        },
        "papermill": {
          "duration": 0.04545,
          "end_time": "2024-03-08T19:56:21.772343",
          "exception": false,
          "start_time": "2024-03-08T19:56:21.726893",
          "status": "completed"
        },
        "tags": [],
        "colab": {
          "base_uri": "https://localhost:8080/",
          "height": 226
        },
        "id": "prescribed-hunger",
        "outputId": "80b1c5f0-7cb0-437b-a8a8-59f786bc07e5"
      },
      "outputs": [
        {
          "output_type": "execute_result",
          "data": {
            "text/plain": [
              "   CreditScore Geography  Gender  Age  Tenure    Balance  NumOfProducts  \\\n",
              "0          619    France  Female   42       2       0.00              1   \n",
              "1          608     Spain  Female   41       1   83807.86              1   \n",
              "2          502    France  Female   42       8  159660.80              3   \n",
              "3          699    France  Female   39       1       0.00              2   \n",
              "4          850     Spain  Female   43       2  125510.82              1   \n",
              "\n",
              "   HasCrCard  IsActiveMember  EstimatedSalary  Germany  Spain  Male  \n",
              "0          1               1        101348.88        0      0     0  \n",
              "1          0               1        112542.58        0      1     0  \n",
              "2          1               0        113931.57        0      0     0  \n",
              "3          0               0         93826.63        0      0     0  \n",
              "4          1               1         79084.10        0      1     0  "
            ],
            "text/html": [
              "\n",
              "  <div id=\"df-8dad13a3-32bd-4d06-a078-cefac0c5a55f\" class=\"colab-df-container\">\n",
              "    <div>\n",
              "<style scoped>\n",
              "    .dataframe tbody tr th:only-of-type {\n",
              "        vertical-align: middle;\n",
              "    }\n",
              "\n",
              "    .dataframe tbody tr th {\n",
              "        vertical-align: top;\n",
              "    }\n",
              "\n",
              "    .dataframe thead th {\n",
              "        text-align: right;\n",
              "    }\n",
              "</style>\n",
              "<table border=\"1\" class=\"dataframe\">\n",
              "  <thead>\n",
              "    <tr style=\"text-align: right;\">\n",
              "      <th></th>\n",
              "      <th>CreditScore</th>\n",
              "      <th>Geography</th>\n",
              "      <th>Gender</th>\n",
              "      <th>Age</th>\n",
              "      <th>Tenure</th>\n",
              "      <th>Balance</th>\n",
              "      <th>NumOfProducts</th>\n",
              "      <th>HasCrCard</th>\n",
              "      <th>IsActiveMember</th>\n",
              "      <th>EstimatedSalary</th>\n",
              "      <th>Germany</th>\n",
              "      <th>Spain</th>\n",
              "      <th>Male</th>\n",
              "    </tr>\n",
              "  </thead>\n",
              "  <tbody>\n",
              "    <tr>\n",
              "      <th>0</th>\n",
              "      <td>619</td>\n",
              "      <td>France</td>\n",
              "      <td>Female</td>\n",
              "      <td>42</td>\n",
              "      <td>2</td>\n",
              "      <td>0.00</td>\n",
              "      <td>1</td>\n",
              "      <td>1</td>\n",
              "      <td>1</td>\n",
              "      <td>101348.88</td>\n",
              "      <td>0</td>\n",
              "      <td>0</td>\n",
              "      <td>0</td>\n",
              "    </tr>\n",
              "    <tr>\n",
              "      <th>1</th>\n",
              "      <td>608</td>\n",
              "      <td>Spain</td>\n",
              "      <td>Female</td>\n",
              "      <td>41</td>\n",
              "      <td>1</td>\n",
              "      <td>83807.86</td>\n",
              "      <td>1</td>\n",
              "      <td>0</td>\n",
              "      <td>1</td>\n",
              "      <td>112542.58</td>\n",
              "      <td>0</td>\n",
              "      <td>1</td>\n",
              "      <td>0</td>\n",
              "    </tr>\n",
              "    <tr>\n",
              "      <th>2</th>\n",
              "      <td>502</td>\n",
              "      <td>France</td>\n",
              "      <td>Female</td>\n",
              "      <td>42</td>\n",
              "      <td>8</td>\n",
              "      <td>159660.80</td>\n",
              "      <td>3</td>\n",
              "      <td>1</td>\n",
              "      <td>0</td>\n",
              "      <td>113931.57</td>\n",
              "      <td>0</td>\n",
              "      <td>0</td>\n",
              "      <td>0</td>\n",
              "    </tr>\n",
              "    <tr>\n",
              "      <th>3</th>\n",
              "      <td>699</td>\n",
              "      <td>France</td>\n",
              "      <td>Female</td>\n",
              "      <td>39</td>\n",
              "      <td>1</td>\n",
              "      <td>0.00</td>\n",
              "      <td>2</td>\n",
              "      <td>0</td>\n",
              "      <td>0</td>\n",
              "      <td>93826.63</td>\n",
              "      <td>0</td>\n",
              "      <td>0</td>\n",
              "      <td>0</td>\n",
              "    </tr>\n",
              "    <tr>\n",
              "      <th>4</th>\n",
              "      <td>850</td>\n",
              "      <td>Spain</td>\n",
              "      <td>Female</td>\n",
              "      <td>43</td>\n",
              "      <td>2</td>\n",
              "      <td>125510.82</td>\n",
              "      <td>1</td>\n",
              "      <td>1</td>\n",
              "      <td>1</td>\n",
              "      <td>79084.10</td>\n",
              "      <td>0</td>\n",
              "      <td>1</td>\n",
              "      <td>0</td>\n",
              "    </tr>\n",
              "  </tbody>\n",
              "</table>\n",
              "</div>\n",
              "    <div class=\"colab-df-buttons\">\n",
              "\n",
              "  <div class=\"colab-df-container\">\n",
              "    <button class=\"colab-df-convert\" onclick=\"convertToInteractive('df-8dad13a3-32bd-4d06-a078-cefac0c5a55f')\"\n",
              "            title=\"Convert this dataframe to an interactive table.\"\n",
              "            style=\"display:none;\">\n",
              "\n",
              "  <svg xmlns=\"http://www.w3.org/2000/svg\" height=\"24px\" viewBox=\"0 -960 960 960\">\n",
              "    <path d=\"M120-120v-720h720v720H120Zm60-500h600v-160H180v160Zm220 220h160v-160H400v160Zm0 220h160v-160H400v160ZM180-400h160v-160H180v160Zm440 0h160v-160H620v160ZM180-180h160v-160H180v160Zm440 0h160v-160H620v160Z\"/>\n",
              "  </svg>\n",
              "    </button>\n",
              "\n",
              "  <style>\n",
              "    .colab-df-container {\n",
              "      display:flex;\n",
              "      gap: 12px;\n",
              "    }\n",
              "\n",
              "    .colab-df-convert {\n",
              "      background-color: #E8F0FE;\n",
              "      border: none;\n",
              "      border-radius: 50%;\n",
              "      cursor: pointer;\n",
              "      display: none;\n",
              "      fill: #1967D2;\n",
              "      height: 32px;\n",
              "      padding: 0 0 0 0;\n",
              "      width: 32px;\n",
              "    }\n",
              "\n",
              "    .colab-df-convert:hover {\n",
              "      background-color: #E2EBFA;\n",
              "      box-shadow: 0px 1px 2px rgba(60, 64, 67, 0.3), 0px 1px 3px 1px rgba(60, 64, 67, 0.15);\n",
              "      fill: #174EA6;\n",
              "    }\n",
              "\n",
              "    .colab-df-buttons div {\n",
              "      margin-bottom: 4px;\n",
              "    }\n",
              "\n",
              "    [theme=dark] .colab-df-convert {\n",
              "      background-color: #3B4455;\n",
              "      fill: #D2E3FC;\n",
              "    }\n",
              "\n",
              "    [theme=dark] .colab-df-convert:hover {\n",
              "      background-color: #434B5C;\n",
              "      box-shadow: 0px 1px 3px 1px rgba(0, 0, 0, 0.15);\n",
              "      filter: drop-shadow(0px 1px 2px rgba(0, 0, 0, 0.3));\n",
              "      fill: #FFFFFF;\n",
              "    }\n",
              "  </style>\n",
              "\n",
              "    <script>\n",
              "      const buttonEl =\n",
              "        document.querySelector('#df-8dad13a3-32bd-4d06-a078-cefac0c5a55f button.colab-df-convert');\n",
              "      buttonEl.style.display =\n",
              "        google.colab.kernel.accessAllowed ? 'block' : 'none';\n",
              "\n",
              "      async function convertToInteractive(key) {\n",
              "        const element = document.querySelector('#df-8dad13a3-32bd-4d06-a078-cefac0c5a55f');\n",
              "        const dataTable =\n",
              "          await google.colab.kernel.invokeFunction('convertToInteractive',\n",
              "                                                    [key], {});\n",
              "        if (!dataTable) return;\n",
              "\n",
              "        const docLinkHtml = 'Like what you see? Visit the ' +\n",
              "          '<a target=\"_blank\" href=https://colab.research.google.com/notebooks/data_table.ipynb>data table notebook</a>'\n",
              "          + ' to learn more about interactive tables.';\n",
              "        element.innerHTML = '';\n",
              "        dataTable['output_type'] = 'display_data';\n",
              "        await google.colab.output.renderOutput(dataTable, element);\n",
              "        const docLink = document.createElement('div');\n",
              "        docLink.innerHTML = docLinkHtml;\n",
              "        element.appendChild(docLink);\n",
              "      }\n",
              "    </script>\n",
              "  </div>\n",
              "\n",
              "\n",
              "<div id=\"df-bbe780a5-1a3f-4d6f-a362-728c82fdb814\">\n",
              "  <button class=\"colab-df-quickchart\" onclick=\"quickchart('df-bbe780a5-1a3f-4d6f-a362-728c82fdb814')\"\n",
              "            title=\"Suggest charts\"\n",
              "            style=\"display:none;\">\n",
              "\n",
              "<svg xmlns=\"http://www.w3.org/2000/svg\" height=\"24px\"viewBox=\"0 0 24 24\"\n",
              "     width=\"24px\">\n",
              "    <g>\n",
              "        <path d=\"M19 3H5c-1.1 0-2 .9-2 2v14c0 1.1.9 2 2 2h14c1.1 0 2-.9 2-2V5c0-1.1-.9-2-2-2zM9 17H7v-7h2v7zm4 0h-2V7h2v10zm4 0h-2v-4h2v4z\"/>\n",
              "    </g>\n",
              "</svg>\n",
              "  </button>\n",
              "\n",
              "<style>\n",
              "  .colab-df-quickchart {\n",
              "      --bg-color: #E8F0FE;\n",
              "      --fill-color: #1967D2;\n",
              "      --hover-bg-color: #E2EBFA;\n",
              "      --hover-fill-color: #174EA6;\n",
              "      --disabled-fill-color: #AAA;\n",
              "      --disabled-bg-color: #DDD;\n",
              "  }\n",
              "\n",
              "  [theme=dark] .colab-df-quickchart {\n",
              "      --bg-color: #3B4455;\n",
              "      --fill-color: #D2E3FC;\n",
              "      --hover-bg-color: #434B5C;\n",
              "      --hover-fill-color: #FFFFFF;\n",
              "      --disabled-bg-color: #3B4455;\n",
              "      --disabled-fill-color: #666;\n",
              "  }\n",
              "\n",
              "  .colab-df-quickchart {\n",
              "    background-color: var(--bg-color);\n",
              "    border: none;\n",
              "    border-radius: 50%;\n",
              "    cursor: pointer;\n",
              "    display: none;\n",
              "    fill: var(--fill-color);\n",
              "    height: 32px;\n",
              "    padding: 0;\n",
              "    width: 32px;\n",
              "  }\n",
              "\n",
              "  .colab-df-quickchart:hover {\n",
              "    background-color: var(--hover-bg-color);\n",
              "    box-shadow: 0 1px 2px rgba(60, 64, 67, 0.3), 0 1px 3px 1px rgba(60, 64, 67, 0.15);\n",
              "    fill: var(--button-hover-fill-color);\n",
              "  }\n",
              "\n",
              "  .colab-df-quickchart-complete:disabled,\n",
              "  .colab-df-quickchart-complete:disabled:hover {\n",
              "    background-color: var(--disabled-bg-color);\n",
              "    fill: var(--disabled-fill-color);\n",
              "    box-shadow: none;\n",
              "  }\n",
              "\n",
              "  .colab-df-spinner {\n",
              "    border: 2px solid var(--fill-color);\n",
              "    border-color: transparent;\n",
              "    border-bottom-color: var(--fill-color);\n",
              "    animation:\n",
              "      spin 1s steps(1) infinite;\n",
              "  }\n",
              "\n",
              "  @keyframes spin {\n",
              "    0% {\n",
              "      border-color: transparent;\n",
              "      border-bottom-color: var(--fill-color);\n",
              "      border-left-color: var(--fill-color);\n",
              "    }\n",
              "    20% {\n",
              "      border-color: transparent;\n",
              "      border-left-color: var(--fill-color);\n",
              "      border-top-color: var(--fill-color);\n",
              "    }\n",
              "    30% {\n",
              "      border-color: transparent;\n",
              "      border-left-color: var(--fill-color);\n",
              "      border-top-color: var(--fill-color);\n",
              "      border-right-color: var(--fill-color);\n",
              "    }\n",
              "    40% {\n",
              "      border-color: transparent;\n",
              "      border-right-color: var(--fill-color);\n",
              "      border-top-color: var(--fill-color);\n",
              "    }\n",
              "    60% {\n",
              "      border-color: transparent;\n",
              "      border-right-color: var(--fill-color);\n",
              "    }\n",
              "    80% {\n",
              "      border-color: transparent;\n",
              "      border-right-color: var(--fill-color);\n",
              "      border-bottom-color: var(--fill-color);\n",
              "    }\n",
              "    90% {\n",
              "      border-color: transparent;\n",
              "      border-bottom-color: var(--fill-color);\n",
              "    }\n",
              "  }\n",
              "</style>\n",
              "\n",
              "  <script>\n",
              "    async function quickchart(key) {\n",
              "      const quickchartButtonEl =\n",
              "        document.querySelector('#' + key + ' button');\n",
              "      quickchartButtonEl.disabled = true;  // To prevent multiple clicks.\n",
              "      quickchartButtonEl.classList.add('colab-df-spinner');\n",
              "      try {\n",
              "        const charts = await google.colab.kernel.invokeFunction(\n",
              "            'suggestCharts', [key], {});\n",
              "      } catch (error) {\n",
              "        console.error('Error during call to suggestCharts:', error);\n",
              "      }\n",
              "      quickchartButtonEl.classList.remove('colab-df-spinner');\n",
              "      quickchartButtonEl.classList.add('colab-df-quickchart-complete');\n",
              "    }\n",
              "    (() => {\n",
              "      let quickchartButtonEl =\n",
              "        document.querySelector('#df-bbe780a5-1a3f-4d6f-a362-728c82fdb814 button');\n",
              "      quickchartButtonEl.style.display =\n",
              "        google.colab.kernel.accessAllowed ? 'block' : 'none';\n",
              "    })();\n",
              "  </script>\n",
              "</div>\n",
              "\n",
              "    </div>\n",
              "  </div>\n"
            ],
            "application/vnd.google.colaboratory.intrinsic+json": {
              "type": "dataframe",
              "variable_name": "X",
              "summary": "{\n  \"name\": \"X\",\n  \"rows\": 10000,\n  \"fields\": [\n    {\n      \"column\": \"CreditScore\",\n      \"properties\": {\n        \"dtype\": \"number\",\n        \"std\": 96,\n        \"min\": 350,\n        \"max\": 850,\n        \"num_unique_values\": 460,\n        \"samples\": [\n          754,\n          533,\n          744\n        ],\n        \"semantic_type\": \"\",\n        \"description\": \"\"\n      }\n    },\n    {\n      \"column\": \"Geography\",\n      \"properties\": {\n        \"dtype\": \"category\",\n        \"num_unique_values\": 3,\n        \"samples\": [\n          \"France\",\n          \"Spain\",\n          \"Germany\"\n        ],\n        \"semantic_type\": \"\",\n        \"description\": \"\"\n      }\n    },\n    {\n      \"column\": \"Gender\",\n      \"properties\": {\n        \"dtype\": \"category\",\n        \"num_unique_values\": 2,\n        \"samples\": [\n          \"Male\",\n          \"Female\"\n        ],\n        \"semantic_type\": \"\",\n        \"description\": \"\"\n      }\n    },\n    {\n      \"column\": \"Age\",\n      \"properties\": {\n        \"dtype\": \"number\",\n        \"std\": 10,\n        \"min\": 18,\n        \"max\": 92,\n        \"num_unique_values\": 70,\n        \"samples\": [\n          61,\n          42\n        ],\n        \"semantic_type\": \"\",\n        \"description\": \"\"\n      }\n    },\n    {\n      \"column\": \"Tenure\",\n      \"properties\": {\n        \"dtype\": \"number\",\n        \"std\": 2,\n        \"min\": 0,\n        \"max\": 10,\n        \"num_unique_values\": 11,\n        \"samples\": [\n          6,\n          2\n        ],\n        \"semantic_type\": \"\",\n        \"description\": \"\"\n      }\n    },\n    {\n      \"column\": \"Balance\",\n      \"properties\": {\n        \"dtype\": \"number\",\n        \"std\": 62397.405202385955,\n        \"min\": 0.0,\n        \"max\": 250898.09,\n        \"num_unique_values\": 6382,\n        \"samples\": [\n          117707.18,\n          133050.97\n        ],\n        \"semantic_type\": \"\",\n        \"description\": \"\"\n      }\n    },\n    {\n      \"column\": \"NumOfProducts\",\n      \"properties\": {\n        \"dtype\": \"number\",\n        \"std\": 0,\n        \"min\": 1,\n        \"max\": 4,\n        \"num_unique_values\": 4,\n        \"samples\": [\n          3,\n          4\n        ],\n        \"semantic_type\": \"\",\n        \"description\": \"\"\n      }\n    },\n    {\n      \"column\": \"HasCrCard\",\n      \"properties\": {\n        \"dtype\": \"number\",\n        \"std\": 0,\n        \"min\": 0,\n        \"max\": 1,\n        \"num_unique_values\": 2,\n        \"samples\": [\n          0,\n          1\n        ],\n        \"semantic_type\": \"\",\n        \"description\": \"\"\n      }\n    },\n    {\n      \"column\": \"IsActiveMember\",\n      \"properties\": {\n        \"dtype\": \"number\",\n        \"std\": 0,\n        \"min\": 0,\n        \"max\": 1,\n        \"num_unique_values\": 2,\n        \"samples\": [\n          0,\n          1\n        ],\n        \"semantic_type\": \"\",\n        \"description\": \"\"\n      }\n    },\n    {\n      \"column\": \"EstimatedSalary\",\n      \"properties\": {\n        \"dtype\": \"number\",\n        \"std\": 57510.49281769816,\n        \"min\": 11.58,\n        \"max\": 199992.48,\n        \"num_unique_values\": 9999,\n        \"samples\": [\n          100809.99,\n          95273.73\n        ],\n        \"semantic_type\": \"\",\n        \"description\": \"\"\n      }\n    },\n    {\n      \"column\": \"Germany\",\n      \"properties\": {\n        \"dtype\": \"uint8\",\n        \"num_unique_values\": 2,\n        \"samples\": [\n          1,\n          0\n        ],\n        \"semantic_type\": \"\",\n        \"description\": \"\"\n      }\n    },\n    {\n      \"column\": \"Spain\",\n      \"properties\": {\n        \"dtype\": \"uint8\",\n        \"num_unique_values\": 2,\n        \"samples\": [\n          1,\n          0\n        ],\n        \"semantic_type\": \"\",\n        \"description\": \"\"\n      }\n    },\n    {\n      \"column\": \"Male\",\n      \"properties\": {\n        \"dtype\": \"uint8\",\n        \"num_unique_values\": 2,\n        \"samples\": [\n          1,\n          0\n        ],\n        \"semantic_type\": \"\",\n        \"description\": \"\"\n      }\n    }\n  ]\n}"
            }
          },
          "metadata": {},
          "execution_count": 11
        }
      ],
      "source": [
        "X.head()"
      ]
    },
    {
      "cell_type": "code",
      "execution_count": 12,
      "id": "instant-award",
      "metadata": {
        "execution": {
          "iopub.execute_input": "2024-03-08T19:56:21.833380Z",
          "iopub.status.busy": "2024-03-08T19:56:21.832860Z",
          "iopub.status.idle": "2024-03-08T19:56:21.838091Z",
          "shell.execute_reply": "2024-03-08T19:56:21.838603Z",
          "shell.execute_reply.started": "2024-03-08T16:34:09.905539Z"
        },
        "papermill": {
          "duration": 0.037283,
          "end_time": "2024-03-08T19:56:21.838742",
          "exception": false,
          "start_time": "2024-03-08T19:56:21.801459",
          "status": "completed"
        },
        "tags": [],
        "id": "instant-award"
      },
      "outputs": [],
      "source": [
        "# Drop Unnecessary columns :\n",
        "X=X.drop(['Geography','Gender'],axis=1)"
      ]
    },
    {
      "cell_type": "markdown",
      "id": "starting-there",
      "metadata": {
        "papermill": {
          "duration": 0.028607,
          "end_time": "2024-03-08T19:56:21.896818",
          "exception": false,
          "start_time": "2024-03-08T19:56:21.868211",
          "status": "completed"
        },
        "tags": [],
        "id": "starting-there"
      },
      "source": [
        "# TRAIN TEST SPLIT"
      ]
    },
    {
      "cell_type": "code",
      "execution_count": 13,
      "id": "latest-filing",
      "metadata": {
        "execution": {
          "iopub.execute_input": "2024-03-08T19:56:21.958406Z",
          "iopub.status.busy": "2024-03-08T19:56:21.957781Z",
          "iopub.status.idle": "2024-03-08T19:56:22.901502Z",
          "shell.execute_reply": "2024-03-08T19:56:22.900503Z",
          "shell.execute_reply.started": "2024-03-08T16:34:09.919112Z"
        },
        "papermill": {
          "duration": 0.97566,
          "end_time": "2024-03-08T19:56:22.901643",
          "exception": false,
          "start_time": "2024-03-08T19:56:21.925983",
          "status": "completed"
        },
        "tags": [],
        "id": "latest-filing"
      },
      "outputs": [],
      "source": [
        "from sklearn.model_selection import train_test_split"
      ]
    },
    {
      "cell_type": "code",
      "execution_count": 14,
      "id": "civil-interest",
      "metadata": {
        "execution": {
          "iopub.execute_input": "2024-03-08T19:56:22.965977Z",
          "iopub.status.busy": "2024-03-08T19:56:22.965294Z",
          "iopub.status.idle": "2024-03-08T19:56:22.972729Z",
          "shell.execute_reply": "2024-03-08T19:56:22.972169Z",
          "shell.execute_reply.started": "2024-03-08T16:34:11.192576Z"
        },
        "papermill": {
          "duration": 0.04218,
          "end_time": "2024-03-08T19:56:22.972883",
          "exception": false,
          "start_time": "2024-03-08T19:56:22.930703",
          "status": "completed"
        },
        "tags": [],
        "id": "civil-interest"
      },
      "outputs": [],
      "source": [
        "X_train, X_test, y_train, y_test = train_test_split(X, y, test_size = 0.2, random_state = 0)"
      ]
    },
    {
      "cell_type": "code",
      "execution_count": 15,
      "id": "structured-domain",
      "metadata": {
        "execution": {
          "iopub.execute_input": "2024-03-08T19:56:23.036148Z",
          "iopub.status.busy": "2024-03-08T19:56:23.035567Z",
          "iopub.status.idle": "2024-03-08T19:56:23.038144Z",
          "shell.execute_reply": "2024-03-08T19:56:23.038675Z",
          "shell.execute_reply.started": "2024-03-08T16:34:11.206462Z"
        },
        "papermill": {
          "duration": 0.03651,
          "end_time": "2024-03-08T19:56:23.038808",
          "exception": false,
          "start_time": "2024-03-08T19:56:23.002298",
          "status": "completed"
        },
        "tags": [],
        "id": "structured-domain"
      },
      "outputs": [],
      "source": [
        "# Feature Scaling :\n",
        "from sklearn.preprocessing import StandardScaler"
      ]
    },
    {
      "cell_type": "code",
      "execution_count": 16,
      "id": "emotional-parade",
      "metadata": {
        "execution": {
          "iopub.execute_input": "2024-03-08T19:56:23.101180Z",
          "iopub.status.busy": "2024-03-08T19:56:23.100636Z",
          "iopub.status.idle": "2024-03-08T19:56:23.103340Z",
          "shell.execute_reply": "2024-03-08T19:56:23.102893Z",
          "shell.execute_reply.started": "2024-03-08T16:34:11.213934Z"
        },
        "papermill": {
          "duration": 0.035697,
          "end_time": "2024-03-08T19:56:23.103455",
          "exception": false,
          "start_time": "2024-03-08T19:56:23.067758",
          "status": "completed"
        },
        "tags": [],
        "id": "emotional-parade"
      },
      "outputs": [],
      "source": [
        "sc = StandardScaler()"
      ]
    },
    {
      "cell_type": "code",
      "execution_count": 17,
      "id": "twelve-staff",
      "metadata": {
        "execution": {
          "iopub.execute_input": "2024-03-08T19:56:23.165815Z",
          "iopub.status.busy": "2024-03-08T19:56:23.165282Z",
          "iopub.status.idle": "2024-03-08T19:56:23.174164Z",
          "shell.execute_reply": "2024-03-08T19:56:23.174593Z",
          "shell.execute_reply.started": "2024-03-08T16:34:11.227302Z"
        },
        "papermill": {
          "duration": 0.041144,
          "end_time": "2024-03-08T19:56:23.174743",
          "exception": false,
          "start_time": "2024-03-08T19:56:23.133599",
          "status": "completed"
        },
        "tags": [],
        "id": "twelve-staff"
      },
      "outputs": [],
      "source": [
        "X_train = sc.fit_transform(X_train)"
      ]
    },
    {
      "cell_type": "code",
      "execution_count": 18,
      "id": "powerful-sperm",
      "metadata": {
        "execution": {
          "iopub.execute_input": "2024-03-08T19:56:23.237445Z",
          "iopub.status.busy": "2024-03-08T19:56:23.236781Z",
          "iopub.status.idle": "2024-03-08T19:56:23.243402Z",
          "shell.execute_reply": "2024-03-08T19:56:23.242810Z",
          "shell.execute_reply.started": "2024-03-08T16:34:11.247925Z"
        },
        "papermill": {
          "duration": 0.038637,
          "end_time": "2024-03-08T19:56:23.243538",
          "exception": false,
          "start_time": "2024-03-08T19:56:23.204901",
          "status": "completed"
        },
        "tags": [],
        "id": "powerful-sperm"
      },
      "outputs": [],
      "source": [
        "X_test = sc.transform(X_test)"
      ]
    },
    {
      "cell_type": "code",
      "execution_count": 19,
      "id": "dramatic-requirement",
      "metadata": {
        "execution": {
          "iopub.execute_input": "2024-03-08T19:56:23.307030Z",
          "iopub.status.busy": "2024-03-08T19:56:23.306516Z",
          "iopub.status.idle": "2024-03-08T19:56:28.674290Z",
          "shell.execute_reply": "2024-03-08T19:56:28.673795Z",
          "shell.execute_reply.started": "2024-03-08T16:34:11.262003Z"
        },
        "papermill": {
          "duration": 5.400966,
          "end_time": "2024-03-08T19:56:28.674459",
          "exception": false,
          "start_time": "2024-03-08T19:56:23.273493",
          "status": "completed"
        },
        "tags": [],
        "id": "dramatic-requirement"
      },
      "outputs": [],
      "source": [
        "import keras\n",
        "from keras.models import Sequential\n",
        "from keras.layers import Dense\n",
        "from keras.layers import Dropout"
      ]
    },
    {
      "cell_type": "code",
      "execution_count": 20,
      "id": "interracial-pontiac",
      "metadata": {
        "execution": {
          "iopub.execute_input": "2024-03-08T19:56:28.738054Z",
          "iopub.status.busy": "2024-03-08T19:56:28.737472Z",
          "iopub.status.idle": "2024-03-08T19:56:28.773584Z",
          "shell.execute_reply": "2024-03-08T19:56:28.774058Z",
          "shell.execute_reply.started": "2024-03-08T16:34:19.186291Z"
        },
        "papermill": {
          "duration": 0.070488,
          "end_time": "2024-03-08T19:56:28.774214",
          "exception": false,
          "start_time": "2024-03-08T19:56:28.703726",
          "status": "completed"
        },
        "tags": [],
        "id": "interracial-pontiac"
      },
      "outputs": [],
      "source": [
        "# Initialising the ANN\n",
        "classifier = Sequential()"
      ]
    },
    {
      "cell_type": "code",
      "execution_count": 21,
      "id": "biblical-investment",
      "metadata": {
        "execution": {
          "iopub.execute_input": "2024-03-08T19:56:28.835011Z",
          "iopub.status.busy": "2024-03-08T19:56:28.834509Z",
          "iopub.status.idle": "2024-03-08T19:56:28.876389Z",
          "shell.execute_reply": "2024-03-08T19:56:28.876815Z",
          "shell.execute_reply.started": "2024-03-08T16:34:19.234212Z"
        },
        "papermill": {
          "duration": 0.073832,
          "end_time": "2024-03-08T19:56:28.876980",
          "exception": false,
          "start_time": "2024-03-08T19:56:28.803148",
          "status": "completed"
        },
        "tags": [],
        "id": "biblical-investment"
      },
      "outputs": [],
      "source": [
        "# Adding the input layer and the first hidden layer\n",
        "classifier.add(Dense(units = 6, kernel_initializer = 'he_uniform',activation='relu',input_dim = 11))"
      ]
    },
    {
      "cell_type": "code",
      "execution_count": 22,
      "id": "private-stomach",
      "metadata": {
        "execution": {
          "iopub.execute_input": "2024-03-08T19:56:28.937167Z",
          "iopub.status.busy": "2024-03-08T19:56:28.936643Z",
          "iopub.status.idle": "2024-03-08T19:56:28.947063Z",
          "shell.execute_reply": "2024-03-08T19:56:28.947621Z",
          "shell.execute_reply.started": "2024-03-08T16:34:19.289710Z"
        },
        "papermill": {
          "duration": 0.04218,
          "end_time": "2024-03-08T19:56:28.947772",
          "exception": false,
          "start_time": "2024-03-08T19:56:28.905592",
          "status": "completed"
        },
        "tags": [],
        "id": "private-stomach"
      },
      "outputs": [],
      "source": [
        "# Adding the second hidden layer\n",
        "classifier.add(Dense(units = 6, kernel_initializer = 'he_uniform',activation='relu'))"
      ]
    },
    {
      "cell_type": "code",
      "execution_count": 23,
      "id": "magnetic-painting",
      "metadata": {
        "execution": {
          "iopub.execute_input": "2024-03-08T19:56:29.011929Z",
          "iopub.status.busy": "2024-03-08T19:56:29.011247Z",
          "iopub.status.idle": "2024-03-08T19:56:29.021028Z",
          "shell.execute_reply": "2024-03-08T19:56:29.020422Z",
          "shell.execute_reply.started": "2024-03-08T16:34:19.306186Z"
        },
        "papermill": {
          "duration": 0.044869,
          "end_time": "2024-03-08T19:56:29.021162",
          "exception": false,
          "start_time": "2024-03-08T19:56:28.976293",
          "status": "completed"
        },
        "tags": [],
        "id": "magnetic-painting"
      },
      "outputs": [],
      "source": [
        "# Adding the output layer\n",
        "classifier.add(Dense(units = 1, kernel_initializer = 'glorot_uniform', activation = 'sigmoid'))"
      ]
    },
    {
      "cell_type": "code",
      "execution_count": 24,
      "id": "unnecessary-ending",
      "metadata": {
        "execution": {
          "iopub.execute_input": "2024-03-08T19:56:29.084744Z",
          "iopub.status.busy": "2024-03-08T19:56:29.083469Z",
          "iopub.status.idle": "2024-03-08T19:56:29.089139Z",
          "shell.execute_reply": "2024-03-08T19:56:29.088607Z",
          "shell.execute_reply.started": "2024-03-08T16:34:19.323216Z"
        },
        "papermill": {
          "duration": 0.03873,
          "end_time": "2024-03-08T19:56:29.089277",
          "exception": false,
          "start_time": "2024-03-08T19:56:29.050547",
          "status": "completed"
        },
        "tags": [],
        "colab": {
          "base_uri": "https://localhost:8080/"
        },
        "id": "unnecessary-ending",
        "outputId": "38c5fcd3-dd59-4a5a-de38-d8be05cb44b3"
      },
      "outputs": [
        {
          "output_type": "stream",
          "name": "stdout",
          "text": [
            "Model: \"sequential\"\n",
            "_________________________________________________________________\n",
            " Layer (type)                Output Shape              Param #   \n",
            "=================================================================\n",
            " dense (Dense)               (None, 6)                 72        \n",
            "                                                                 \n",
            " dense_1 (Dense)             (None, 6)                 42        \n",
            "                                                                 \n",
            " dense_2 (Dense)             (None, 1)                 7         \n",
            "                                                                 \n",
            "=================================================================\n",
            "Total params: 121 (484.00 Byte)\n",
            "Trainable params: 121 (484.00 Byte)\n",
            "Non-trainable params: 0 (0.00 Byte)\n",
            "_________________________________________________________________\n"
          ]
        }
      ],
      "source": [
        "classifier.summary()"
      ]
    },
    {
      "cell_type": "code",
      "execution_count": 25,
      "id": "cross-motor",
      "metadata": {
        "execution": {
          "iopub.execute_input": "2024-03-08T19:56:29.151678Z",
          "iopub.status.busy": "2024-03-08T19:56:29.150979Z",
          "iopub.status.idle": "2024-03-08T19:56:29.163795Z",
          "shell.execute_reply": "2024-03-08T19:56:29.163235Z",
          "shell.execute_reply.started": "2024-03-08T16:34:19.336141Z"
        },
        "papermill": {
          "duration": 0.044587,
          "end_time": "2024-03-08T19:56:29.163937",
          "exception": false,
          "start_time": "2024-03-08T19:56:29.119350",
          "status": "completed"
        },
        "tags": [],
        "id": "cross-motor"
      },
      "outputs": [],
      "source": [
        "# Compiling the ANN\n",
        "classifier.compile(optimizer = 'Adam', loss = 'binary_crossentropy', metrics = ['accuracy'])"
      ]
    },
    {
      "cell_type": "code",
      "execution_count": 26,
      "id": "civic-angle",
      "metadata": {
        "execution": {
          "iopub.execute_input": "2024-03-08T19:56:29.226218Z",
          "iopub.status.busy": "2024-03-08T19:56:29.225698Z",
          "iopub.status.idle": "2024-03-08T19:57:38.222890Z",
          "shell.execute_reply": "2024-03-08T19:57:38.222094Z",
          "shell.execute_reply.started": "2024-03-08T16:34:19.358261Z"
        },
        "papermill": {
          "duration": 69.02942,
          "end_time": "2024-03-08T19:57:38.223039",
          "exception": false,
          "start_time": "2024-03-08T19:56:29.193619",
          "status": "completed"
        },
        "tags": [],
        "colab": {
          "base_uri": "https://localhost:8080/"
        },
        "id": "civic-angle",
        "outputId": "48782a11-df3d-4891-a95c-e7ae718ad936"
      },
      "outputs": [
        {
          "output_type": "stream",
          "name": "stdout",
          "text": [
            "Epoch 1/100\n",
            "536/536 [==============================] - 10s 10ms/step - loss: 0.5892 - accuracy: 0.7123 - val_loss: 0.5190 - val_accuracy: 0.7895\n",
            "Epoch 2/100\n",
            "536/536 [==============================] - 4s 7ms/step - loss: 0.4811 - accuracy: 0.8009 - val_loss: 0.4776 - val_accuracy: 0.7959\n",
            "Epoch 3/100\n",
            "536/536 [==============================] - 2s 4ms/step - loss: 0.4512 - accuracy: 0.8099 - val_loss: 0.4540 - val_accuracy: 0.8035\n",
            "Epoch 4/100\n",
            "536/536 [==============================] - 2s 4ms/step - loss: 0.4314 - accuracy: 0.8201 - val_loss: 0.4381 - val_accuracy: 0.8084\n",
            "Epoch 5/100\n",
            "536/536 [==============================] - 3s 6ms/step - loss: 0.4146 - accuracy: 0.8294 - val_loss: 0.4230 - val_accuracy: 0.8179\n",
            "Epoch 6/100\n",
            "536/536 [==============================] - 2s 4ms/step - loss: 0.3986 - accuracy: 0.8365 - val_loss: 0.4088 - val_accuracy: 0.8311\n",
            "Epoch 7/100\n",
            "536/536 [==============================] - 2s 4ms/step - loss: 0.3854 - accuracy: 0.8414 - val_loss: 0.3977 - val_accuracy: 0.8364\n",
            "Epoch 8/100\n",
            "536/536 [==============================] - 2s 4ms/step - loss: 0.3758 - accuracy: 0.8446 - val_loss: 0.3913 - val_accuracy: 0.8391\n",
            "Epoch 9/100\n",
            "536/536 [==============================] - 2s 4ms/step - loss: 0.3702 - accuracy: 0.8464 - val_loss: 0.3870 - val_accuracy: 0.8387\n",
            "Epoch 10/100\n",
            "536/536 [==============================] - 3s 6ms/step - loss: 0.3657 - accuracy: 0.8494 - val_loss: 0.3853 - val_accuracy: 0.8383\n",
            "Epoch 11/100\n",
            "536/536 [==============================] - 2s 4ms/step - loss: 0.3626 - accuracy: 0.8522 - val_loss: 0.3842 - val_accuracy: 0.8425\n",
            "Epoch 12/100\n",
            "536/536 [==============================] - 2s 4ms/step - loss: 0.3589 - accuracy: 0.8498 - val_loss: 0.3820 - val_accuracy: 0.8436\n",
            "Epoch 13/100\n",
            "536/536 [==============================] - 2s 4ms/step - loss: 0.3557 - accuracy: 0.8533 - val_loss: 0.3836 - val_accuracy: 0.8398\n",
            "Epoch 14/100\n",
            "536/536 [==============================] - 2s 4ms/step - loss: 0.3537 - accuracy: 0.8531 - val_loss: 0.3812 - val_accuracy: 0.8398\n",
            "Epoch 15/100\n",
            "536/536 [==============================] - 3s 5ms/step - loss: 0.3507 - accuracy: 0.8537 - val_loss: 0.3796 - val_accuracy: 0.8429\n",
            "Epoch 16/100\n",
            "536/536 [==============================] - 2s 4ms/step - loss: 0.3476 - accuracy: 0.8578 - val_loss: 0.3799 - val_accuracy: 0.8444\n",
            "Epoch 17/100\n",
            "536/536 [==============================] - 2s 4ms/step - loss: 0.3462 - accuracy: 0.8546 - val_loss: 0.3768 - val_accuracy: 0.8463\n",
            "Epoch 18/100\n",
            "536/536 [==============================] - 2s 4ms/step - loss: 0.3443 - accuracy: 0.8582 - val_loss: 0.3740 - val_accuracy: 0.8466\n",
            "Epoch 19/100\n",
            "536/536 [==============================] - 2s 4ms/step - loss: 0.3421 - accuracy: 0.8586 - val_loss: 0.3721 - val_accuracy: 0.8474\n",
            "Epoch 20/100\n",
            "536/536 [==============================] - 3s 6ms/step - loss: 0.3405 - accuracy: 0.8584 - val_loss: 0.3719 - val_accuracy: 0.8474\n",
            "Epoch 21/100\n",
            "536/536 [==============================] - 2s 4ms/step - loss: 0.3388 - accuracy: 0.8597 - val_loss: 0.3743 - val_accuracy: 0.8485\n",
            "Epoch 22/100\n",
            "536/536 [==============================] - 2s 4ms/step - loss: 0.3386 - accuracy: 0.8589 - val_loss: 0.3707 - val_accuracy: 0.8482\n",
            "Epoch 23/100\n",
            "536/536 [==============================] - 2s 4ms/step - loss: 0.3376 - accuracy: 0.8604 - val_loss: 0.3691 - val_accuracy: 0.8504\n",
            "Epoch 24/100\n",
            "536/536 [==============================] - 2s 4ms/step - loss: 0.3372 - accuracy: 0.8600 - val_loss: 0.3683 - val_accuracy: 0.8516\n",
            "Epoch 25/100\n",
            "536/536 [==============================] - 3s 6ms/step - loss: 0.3365 - accuracy: 0.8608 - val_loss: 0.3673 - val_accuracy: 0.8516\n",
            "Epoch 26/100\n",
            "536/536 [==============================] - 2s 4ms/step - loss: 0.3359 - accuracy: 0.8587 - val_loss: 0.3673 - val_accuracy: 0.8493\n",
            "Epoch 27/100\n",
            "536/536 [==============================] - 2s 4ms/step - loss: 0.3352 - accuracy: 0.8625 - val_loss: 0.3671 - val_accuracy: 0.8519\n",
            "Epoch 28/100\n",
            "536/536 [==============================] - 2s 4ms/step - loss: 0.3349 - accuracy: 0.8604 - val_loss: 0.3668 - val_accuracy: 0.8531\n",
            "Epoch 29/100\n",
            "536/536 [==============================] - 2s 4ms/step - loss: 0.3349 - accuracy: 0.8610 - val_loss: 0.3655 - val_accuracy: 0.8516\n",
            "Epoch 30/100\n",
            "536/536 [==============================] - 3s 6ms/step - loss: 0.3348 - accuracy: 0.8612 - val_loss: 0.3665 - val_accuracy: 0.8535\n",
            "Epoch 31/100\n",
            "536/536 [==============================] - 2s 4ms/step - loss: 0.3341 - accuracy: 0.8619 - val_loss: 0.3651 - val_accuracy: 0.8557\n",
            "Epoch 32/100\n",
            "536/536 [==============================] - 2s 4ms/step - loss: 0.3339 - accuracy: 0.8591 - val_loss: 0.3655 - val_accuracy: 0.8550\n",
            "Epoch 33/100\n",
            "536/536 [==============================] - 2s 4ms/step - loss: 0.3338 - accuracy: 0.8636 - val_loss: 0.3646 - val_accuracy: 0.8531\n",
            "Epoch 34/100\n",
            "536/536 [==============================] - 2s 5ms/step - loss: 0.3334 - accuracy: 0.8621 - val_loss: 0.3635 - val_accuracy: 0.8531\n",
            "Epoch 35/100\n",
            "536/536 [==============================] - 3s 5ms/step - loss: 0.3331 - accuracy: 0.8621 - val_loss: 0.3646 - val_accuracy: 0.8519\n",
            "Epoch 36/100\n",
            "536/536 [==============================] - 2s 4ms/step - loss: 0.3327 - accuracy: 0.8621 - val_loss: 0.3655 - val_accuracy: 0.8508\n",
            "Epoch 37/100\n",
            "536/536 [==============================] - 2s 4ms/step - loss: 0.3327 - accuracy: 0.8638 - val_loss: 0.3648 - val_accuracy: 0.8535\n",
            "Epoch 38/100\n",
            "536/536 [==============================] - 2s 4ms/step - loss: 0.3327 - accuracy: 0.8636 - val_loss: 0.3639 - val_accuracy: 0.8527\n",
            "Epoch 39/100\n",
            "536/536 [==============================] - 2s 4ms/step - loss: 0.3325 - accuracy: 0.8638 - val_loss: 0.3646 - val_accuracy: 0.8542\n",
            "Epoch 40/100\n",
            "536/536 [==============================] - 3s 5ms/step - loss: 0.3322 - accuracy: 0.8647 - val_loss: 0.3628 - val_accuracy: 0.8561\n",
            "Epoch 41/100\n",
            "536/536 [==============================] - 2s 4ms/step - loss: 0.3323 - accuracy: 0.8634 - val_loss: 0.3621 - val_accuracy: 0.8546\n",
            "Epoch 42/100\n",
            "536/536 [==============================] - 2s 4ms/step - loss: 0.3324 - accuracy: 0.8625 - val_loss: 0.3619 - val_accuracy: 0.8569\n",
            "Epoch 43/100\n",
            "536/536 [==============================] - 2s 4ms/step - loss: 0.3322 - accuracy: 0.8651 - val_loss: 0.3632 - val_accuracy: 0.8554\n",
            "Epoch 44/100\n",
            "536/536 [==============================] - 2s 5ms/step - loss: 0.3320 - accuracy: 0.8625 - val_loss: 0.3630 - val_accuracy: 0.8542\n",
            "Epoch 45/100\n",
            "536/536 [==============================] - 3s 6ms/step - loss: 0.3315 - accuracy: 0.8634 - val_loss: 0.3636 - val_accuracy: 0.8554\n",
            "Epoch 46/100\n",
            "536/536 [==============================] - 2s 4ms/step - loss: 0.3315 - accuracy: 0.8612 - val_loss: 0.3606 - val_accuracy: 0.8554\n",
            "Epoch 47/100\n",
            "536/536 [==============================] - 2s 4ms/step - loss: 0.3311 - accuracy: 0.8632 - val_loss: 0.3613 - val_accuracy: 0.8557\n",
            "Epoch 48/100\n",
            "536/536 [==============================] - 2s 4ms/step - loss: 0.3310 - accuracy: 0.8614 - val_loss: 0.3639 - val_accuracy: 0.8546\n",
            "Epoch 49/100\n",
            "536/536 [==============================] - 2s 4ms/step - loss: 0.3312 - accuracy: 0.8625 - val_loss: 0.3623 - val_accuracy: 0.8569\n",
            "Epoch 50/100\n",
            "536/536 [==============================] - 3s 6ms/step - loss: 0.3310 - accuracy: 0.8634 - val_loss: 0.3620 - val_accuracy: 0.8573\n",
            "Epoch 51/100\n",
            "536/536 [==============================] - 2s 4ms/step - loss: 0.3305 - accuracy: 0.8634 - val_loss: 0.3611 - val_accuracy: 0.8557\n",
            "Epoch 52/100\n",
            "536/536 [==============================] - 2s 4ms/step - loss: 0.3307 - accuracy: 0.8621 - val_loss: 0.3612 - val_accuracy: 0.8569\n",
            "Epoch 53/100\n",
            "536/536 [==============================] - 2s 5ms/step - loss: 0.3301 - accuracy: 0.8643 - val_loss: 0.3612 - val_accuracy: 0.8561\n",
            "Epoch 54/100\n",
            "536/536 [==============================] - 2s 4ms/step - loss: 0.3306 - accuracy: 0.8614 - val_loss: 0.3615 - val_accuracy: 0.8561\n",
            "Epoch 55/100\n",
            "536/536 [==============================] - 3s 5ms/step - loss: 0.3300 - accuracy: 0.8628 - val_loss: 0.3612 - val_accuracy: 0.8580\n",
            "Epoch 56/100\n",
            "536/536 [==============================] - 2s 4ms/step - loss: 0.3298 - accuracy: 0.8634 - val_loss: 0.3629 - val_accuracy: 0.8561\n",
            "Epoch 57/100\n",
            "536/536 [==============================] - 2s 5ms/step - loss: 0.3297 - accuracy: 0.8636 - val_loss: 0.3608 - val_accuracy: 0.8573\n",
            "Epoch 58/100\n",
            "536/536 [==============================] - 2s 4ms/step - loss: 0.3291 - accuracy: 0.8643 - val_loss: 0.3621 - val_accuracy: 0.8554\n",
            "Epoch 59/100\n",
            "536/536 [==============================] - 2s 4ms/step - loss: 0.3291 - accuracy: 0.8638 - val_loss: 0.3596 - val_accuracy: 0.8591\n",
            "Epoch 60/100\n",
            "536/536 [==============================] - 3s 5ms/step - loss: 0.3288 - accuracy: 0.8653 - val_loss: 0.3604 - val_accuracy: 0.8576\n",
            "Epoch 61/100\n",
            "536/536 [==============================] - 2s 4ms/step - loss: 0.3285 - accuracy: 0.8638 - val_loss: 0.3581 - val_accuracy: 0.8565\n",
            "Epoch 62/100\n",
            "536/536 [==============================] - 2s 4ms/step - loss: 0.3283 - accuracy: 0.8647 - val_loss: 0.3610 - val_accuracy: 0.8538\n",
            "Epoch 63/100\n",
            "536/536 [==============================] - 2s 4ms/step - loss: 0.3282 - accuracy: 0.8638 - val_loss: 0.3594 - val_accuracy: 0.8588\n",
            "Epoch 64/100\n",
            "536/536 [==============================] - 2s 4ms/step - loss: 0.3279 - accuracy: 0.8634 - val_loss: 0.3586 - val_accuracy: 0.8595\n",
            "Epoch 65/100\n",
            "536/536 [==============================] - 3s 5ms/step - loss: 0.3277 - accuracy: 0.8628 - val_loss: 0.3587 - val_accuracy: 0.8588\n",
            "Epoch 66/100\n",
            "536/536 [==============================] - 2s 4ms/step - loss: 0.3272 - accuracy: 0.8632 - val_loss: 0.3607 - val_accuracy: 0.8542\n",
            "Epoch 67/100\n",
            "536/536 [==============================] - 2s 4ms/step - loss: 0.3273 - accuracy: 0.8643 - val_loss: 0.3604 - val_accuracy: 0.8576\n",
            "Epoch 68/100\n",
            "536/536 [==============================] - 2s 4ms/step - loss: 0.3269 - accuracy: 0.8643 - val_loss: 0.3588 - val_accuracy: 0.8565\n",
            "Epoch 69/100\n",
            "536/536 [==============================] - 2s 4ms/step - loss: 0.3265 - accuracy: 0.8621 - val_loss: 0.3600 - val_accuracy: 0.8565\n",
            "Epoch 70/100\n",
            "536/536 [==============================] - 3s 5ms/step - loss: 0.3268 - accuracy: 0.8642 - val_loss: 0.3591 - val_accuracy: 0.8584\n",
            "Epoch 71/100\n",
            "536/536 [==============================] - 2s 4ms/step - loss: 0.3264 - accuracy: 0.8638 - val_loss: 0.3592 - val_accuracy: 0.8561\n",
            "Epoch 72/100\n",
            "536/536 [==============================] - 2s 4ms/step - loss: 0.3255 - accuracy: 0.8642 - val_loss: 0.3596 - val_accuracy: 0.8584\n",
            "Epoch 73/100\n",
            "536/536 [==============================] - 2s 4ms/step - loss: 0.3260 - accuracy: 0.8649 - val_loss: 0.3581 - val_accuracy: 0.8580\n",
            "Epoch 74/100\n",
            "536/536 [==============================] - 2s 4ms/step - loss: 0.3253 - accuracy: 0.8640 - val_loss: 0.3583 - val_accuracy: 0.8588\n",
            "Epoch 75/100\n",
            "536/536 [==============================] - 3s 5ms/step - loss: 0.3255 - accuracy: 0.8655 - val_loss: 0.3573 - val_accuracy: 0.8573\n",
            "Epoch 76/100\n",
            "536/536 [==============================] - 2s 4ms/step - loss: 0.3253 - accuracy: 0.8653 - val_loss: 0.3618 - val_accuracy: 0.8542\n",
            "Epoch 77/100\n",
            "536/536 [==============================] - 2s 4ms/step - loss: 0.3253 - accuracy: 0.8651 - val_loss: 0.3589 - val_accuracy: 0.8565\n",
            "Epoch 78/100\n",
            "536/536 [==============================] - 2s 4ms/step - loss: 0.3255 - accuracy: 0.8642 - val_loss: 0.3600 - val_accuracy: 0.8569\n",
            "Epoch 79/100\n",
            "536/536 [==============================] - 2s 4ms/step - loss: 0.3255 - accuracy: 0.8632 - val_loss: 0.3587 - val_accuracy: 0.8557\n",
            "Epoch 80/100\n",
            "536/536 [==============================] - 2s 4ms/step - loss: 0.3251 - accuracy: 0.8647 - val_loss: 0.3602 - val_accuracy: 0.8554\n",
            "Epoch 81/100\n",
            "536/536 [==============================] - 3s 5ms/step - loss: 0.3249 - accuracy: 0.8649 - val_loss: 0.3606 - val_accuracy: 0.8584\n",
            "Epoch 82/100\n",
            "536/536 [==============================] - 2s 4ms/step - loss: 0.3248 - accuracy: 0.8630 - val_loss: 0.3589 - val_accuracy: 0.8580\n",
            "Epoch 83/100\n",
            "536/536 [==============================] - 2s 4ms/step - loss: 0.3254 - accuracy: 0.8640 - val_loss: 0.3599 - val_accuracy: 0.8569\n",
            "Epoch 84/100\n",
            "536/536 [==============================] - 2s 4ms/step - loss: 0.3247 - accuracy: 0.8619 - val_loss: 0.3599 - val_accuracy: 0.8538\n",
            "Epoch 85/100\n",
            "536/536 [==============================] - 2s 4ms/step - loss: 0.3245 - accuracy: 0.8662 - val_loss: 0.3605 - val_accuracy: 0.8550\n",
            "Epoch 86/100\n",
            "536/536 [==============================] - 3s 6ms/step - loss: 0.3244 - accuracy: 0.8649 - val_loss: 0.3606 - val_accuracy: 0.8591\n",
            "Epoch 87/100\n",
            "536/536 [==============================] - 2s 4ms/step - loss: 0.3239 - accuracy: 0.8668 - val_loss: 0.3593 - val_accuracy: 0.8573\n",
            "Epoch 88/100\n",
            "536/536 [==============================] - 2s 4ms/step - loss: 0.3248 - accuracy: 0.8656 - val_loss: 0.3587 - val_accuracy: 0.8554\n",
            "Epoch 89/100\n",
            "536/536 [==============================] - 2s 4ms/step - loss: 0.3245 - accuracy: 0.8655 - val_loss: 0.3602 - val_accuracy: 0.8573\n",
            "Epoch 90/100\n",
            "536/536 [==============================] - 2s 4ms/step - loss: 0.3243 - accuracy: 0.8634 - val_loss: 0.3615 - val_accuracy: 0.8557\n",
            "Epoch 91/100\n",
            "536/536 [==============================] - 3s 5ms/step - loss: 0.3242 - accuracy: 0.8643 - val_loss: 0.3611 - val_accuracy: 0.8576\n",
            "Epoch 92/100\n",
            "536/536 [==============================] - 2s 4ms/step - loss: 0.3246 - accuracy: 0.8662 - val_loss: 0.3627 - val_accuracy: 0.8554\n",
            "Epoch 93/100\n",
            "536/536 [==============================] - 2s 4ms/step - loss: 0.3243 - accuracy: 0.8645 - val_loss: 0.3611 - val_accuracy: 0.8550\n",
            "Epoch 94/100\n",
            "536/536 [==============================] - 2s 5ms/step - loss: 0.3243 - accuracy: 0.8642 - val_loss: 0.3602 - val_accuracy: 0.8550\n",
            "Epoch 95/100\n",
            "536/536 [==============================] - 2s 4ms/step - loss: 0.3242 - accuracy: 0.8640 - val_loss: 0.3614 - val_accuracy: 0.8576\n",
            "Epoch 96/100\n",
            "536/536 [==============================] - 3s 5ms/step - loss: 0.3244 - accuracy: 0.8653 - val_loss: 0.3600 - val_accuracy: 0.8573\n",
            "Epoch 97/100\n",
            "536/536 [==============================] - 2s 4ms/step - loss: 0.3238 - accuracy: 0.8645 - val_loss: 0.3596 - val_accuracy: 0.8557\n",
            "Epoch 98/100\n",
            "536/536 [==============================] - 2s 4ms/step - loss: 0.3247 - accuracy: 0.8638 - val_loss: 0.3591 - val_accuracy: 0.8569\n",
            "Epoch 99/100\n",
            "536/536 [==============================] - 2s 4ms/step - loss: 0.3240 - accuracy: 0.8658 - val_loss: 0.3609 - val_accuracy: 0.8554\n",
            "Epoch 100/100\n",
            "536/536 [==============================] - 2s 4ms/step - loss: 0.3241 - accuracy: 0.8656 - val_loss: 0.3618 - val_accuracy: 0.8538\n"
          ]
        }
      ],
      "source": [
        "# Fitting the ANN to the Training set\n",
        "model_history=classifier.fit(X_train, y_train,validation_split=0.33, batch_size = 10, epochs= 100)"
      ]
    },
    {
      "cell_type": "code",
      "execution_count": 27,
      "id": "terminal-biology",
      "metadata": {
        "execution": {
          "iopub.execute_input": "2024-03-08T19:57:38.844211Z",
          "iopub.status.busy": "2024-03-08T19:57:38.843562Z",
          "iopub.status.idle": "2024-03-08T19:57:38.846998Z",
          "shell.execute_reply": "2024-03-08T19:57:38.846424Z",
          "shell.execute_reply.started": "2024-03-08T16:35:43.444222Z"
        },
        "papermill": {
          "duration": 0.318064,
          "end_time": "2024-03-08T19:57:38.847133",
          "exception": false,
          "start_time": "2024-03-08T19:57:38.529069",
          "status": "completed"
        },
        "tags": [],
        "colab": {
          "base_uri": "https://localhost:8080/"
        },
        "id": "terminal-biology",
        "outputId": "51bc8b55-d012-4827-f007-ab3c3d4dd028"
      },
      "outputs": [
        {
          "output_type": "execute_result",
          "data": {
            "text/plain": [
              "dict_keys(['loss', 'accuracy', 'val_loss', 'val_accuracy'])"
            ]
          },
          "metadata": {},
          "execution_count": 27
        }
      ],
      "source": [
        "# list all data in history\n",
        "model_history.history.keys()"
      ]
    },
    {
      "cell_type": "code",
      "execution_count": 28,
      "id": "concerned-collect",
      "metadata": {
        "execution": {
          "iopub.execute_input": "2024-03-08T19:57:39.477106Z",
          "iopub.status.busy": "2024-03-08T19:57:39.476499Z",
          "iopub.status.idle": "2024-03-08T19:57:39.639371Z",
          "shell.execute_reply": "2024-03-08T19:57:39.639782Z",
          "shell.execute_reply.started": "2024-03-08T16:35:43.453798Z"
        },
        "papermill": {
          "duration": 0.490321,
          "end_time": "2024-03-08T19:57:39.639985",
          "exception": false,
          "start_time": "2024-03-08T19:57:39.149664",
          "status": "completed"
        },
        "tags": [],
        "colab": {
          "base_uri": "https://localhost:8080/",
          "height": 472
        },
        "id": "concerned-collect",
        "outputId": "244a53d9-86ae-4bf6-b019-1934d7e950f4"
      },
      "outputs": [
        {
          "output_type": "display_data",
          "data": {
            "text/plain": [
              "<Figure size 640x480 with 1 Axes>"
            ],
            "image/png": "[encoded data removed]"
          },
          "metadata": {}
        }
      ],
      "source": [
        "# summarize history for accuracy\n",
        "plt.plot(model_history.history['accuracy'])\n",
        "plt.plot(model_history.history['val_accuracy'])\n",
        "plt.title('model accuracy')\n",
        "plt.ylabel('accuracy')\n",
        "plt.xlabel('epoch')\n",
        "plt.legend(['train', 'test'], loc='upper left')\n",
        "plt.show()"
      ]
    },
    {
      "cell_type": "code",
      "execution_count": 29,
      "id": "immune-harvard",
      "metadata": {
        "execution": {
          "iopub.execute_input": "2024-03-08T19:57:40.278802Z",
          "iopub.status.busy": "2024-03-08T19:57:40.258699Z",
          "iopub.status.idle": "2024-03-08T19:57:40.384406Z",
          "shell.execute_reply": "2024-03-08T19:57:40.384855Z",
          "shell.execute_reply.started": "2024-03-08T16:35:43.679658Z"
        },
        "papermill": {
          "duration": 0.437875,
          "end_time": "2024-03-08T19:57:40.385024",
          "exception": false,
          "start_time": "2024-03-08T19:57:39.947149",
          "status": "completed"
        },
        "tags": [],
        "colab": {
          "base_uri": "https://localhost:8080/",
          "height": 472
        },
        "id": "immune-harvard",
        "outputId": "fb36fb49-10cd-4ace-d1c5-ebb314792d44"
      },
      "outputs": [
        {
          "output_type": "display_data",
          "data": {
            "text/plain": [
              "<Figure size 640x480 with 1 Axes>"
            ],
            "image/png": "[encoded data removed]"
          },
          "metadata": {}
        }
      ],
      "source": [
        "# summarize history for loss\n",
        "plt.plot(model_history.history['loss'])\n",
        "plt.plot(model_history.history['val_loss'])\n",
        "plt.title('model loss')\n",
        "plt.ylabel('loss')\n",
        "plt.xlabel('epoch')\n",
        "plt.legend(['train', 'test'], loc='upper left')\n",
        "plt.show()"
      ]
    },
    {
      "cell_type": "code",
      "execution_count": 30,
      "id": "active-paradise",
      "metadata": {
        "execution": {
          "iopub.execute_input": "2024-03-08T19:57:41.015655Z",
          "iopub.status.busy": "2024-03-08T19:57:41.014934Z",
          "iopub.status.idle": "2024-03-08T19:57:41.141972Z",
          "shell.execute_reply": "2024-03-08T19:57:41.141507Z",
          "shell.execute_reply.started": "2024-03-08T16:35:43.845482Z"
        },
        "papermill": {
          "duration": 0.4442,
          "end_time": "2024-03-08T19:57:41.142107",
          "exception": false,
          "start_time": "2024-03-08T19:57:40.697907",
          "status": "completed"
        },
        "tags": [],
        "colab": {
          "base_uri": "https://localhost:8080/"
        },
        "id": "active-paradise",
        "outputId": "bd0d9dbc-1103-4bbf-ff1c-504082e78917"
      },
      "outputs": [
        {
          "output_type": "stream",
          "name": "stdout",
          "text": [
            "63/63 [==============================] - 0s 1ms/step\n"
          ]
        }
      ],
      "source": [
        "# Predicting the Test set results\n",
        "y_pred = classifier.predict(X_test)"
      ]
    },
    {
      "cell_type": "code",
      "execution_count": 31,
      "id": "nominated-experience",
      "metadata": {
        "execution": {
          "iopub.execute_input": "2024-03-08T19:57:41.776231Z",
          "iopub.status.busy": "2024-03-08T19:57:41.775604Z",
          "iopub.status.idle": "2024-03-08T19:57:41.777990Z",
          "shell.execute_reply": "2024-03-08T19:57:41.777502Z",
          "shell.execute_reply.started": "2024-03-08T16:35:43.999980Z"
        },
        "papermill": {
          "duration": 0.309264,
          "end_time": "2024-03-08T19:57:41.778126",
          "exception": false,
          "start_time": "2024-03-08T19:57:41.468862",
          "status": "completed"
        },
        "tags": [],
        "id": "nominated-experience"
      },
      "outputs": [],
      "source": [
        "y_pred = (y_pred > 0.5)"
      ]
    },
    {
      "cell_type": "code",
      "execution_count": 32,
      "id": "usual-spirituality",
      "metadata": {
        "execution": {
          "iopub.execute_input": "2024-03-08T19:57:42.436652Z",
          "iopub.status.busy": "2024-03-08T19:57:42.436052Z",
          "iopub.status.idle": "2024-03-08T19:57:42.439990Z",
          "shell.execute_reply": "2024-03-08T19:57:42.439528Z",
          "shell.execute_reply.started": "2024-03-08T16:35:44.006003Z"
        },
        "papermill": {
          "duration": 0.358511,
          "end_time": "2024-03-08T19:57:42.440129",
          "exception": false,
          "start_time": "2024-03-08T19:57:42.081618",
          "status": "completed"
        },
        "tags": [],
        "colab": {
          "base_uri": "https://localhost:8080/"
        },
        "id": "usual-spirituality",
        "outputId": "fd5e508e-00ac-4201-bf0b-79b07ca07499"
      },
      "outputs": [
        {
          "output_type": "execute_result",
          "data": {
            "text/plain": [
              "array([[False],\n",
              "       [False],\n",
              "       [False],\n",
              "       ...,\n",
              "       [False],\n",
              "       [False],\n",
              "       [False]])"
            ]
          },
          "metadata": {},
          "execution_count": 32
        }
      ],
      "source": [
        "y_pred"
      ]
    },
    {
      "cell_type": "code",
      "execution_count": 33,
      "id": "sized-auckland",
      "metadata": {
        "execution": {
          "iopub.execute_input": "2024-03-08T19:57:43.060821Z",
          "iopub.status.busy": "2024-03-08T19:57:43.060289Z",
          "iopub.status.idle": "2024-03-08T19:57:43.064635Z",
          "shell.execute_reply": "2024-03-08T19:57:43.064070Z",
          "shell.execute_reply.started": "2024-03-08T16:35:44.022745Z"
        },
        "papermill": {
          "duration": 0.318842,
          "end_time": "2024-03-08T19:57:43.064776",
          "exception": false,
          "start_time": "2024-03-08T19:57:42.745934",
          "status": "completed"
        },
        "tags": [],
        "id": "sized-auckland"
      },
      "outputs": [],
      "source": [
        "# Making the Confusion Matrix\n",
        "from sklearn.metrics import confusion_matrix"
      ]
    },
    {
      "cell_type": "code",
      "execution_count": 34,
      "id": "speaking-cleaning",
      "metadata": {
        "execution": {
          "iopub.execute_input": "2024-03-08T19:57:43.690793Z",
          "iopub.status.busy": "2024-03-08T19:57:43.689988Z",
          "iopub.status.idle": "2024-03-08T19:57:43.701783Z",
          "shell.execute_reply": "2024-03-08T19:57:43.701247Z",
          "shell.execute_reply.started": "2024-03-08T16:35:44.031328Z"
        },
        "papermill": {
          "duration": 0.328943,
          "end_time": "2024-03-08T19:57:43.701942",
          "exception": false,
          "start_time": "2024-03-08T19:57:43.372999",
          "status": "completed"
        },
        "tags": [],
        "id": "speaking-cleaning"
      },
      "outputs": [],
      "source": [
        "cm = confusion_matrix(y_test, y_pred)"
      ]
    },
    {
      "cell_type": "code",
      "execution_count": 35,
      "id": "hired-blink",
      "metadata": {
        "execution": {
          "iopub.execute_input": "2024-03-08T19:57:44.321598Z",
          "iopub.status.busy": "2024-03-08T19:57:44.320812Z",
          "iopub.status.idle": "2024-03-08T19:57:44.325597Z",
          "shell.execute_reply": "2024-03-08T19:57:44.324968Z",
          "shell.execute_reply.started": "2024-03-08T16:35:44.051472Z"
        },
        "papermill": {
          "duration": 0.315478,
          "end_time": "2024-03-08T19:57:44.325730",
          "exception": false,
          "start_time": "2024-03-08T19:57:44.010252",
          "status": "completed"
        },
        "tags": [],
        "colab": {
          "base_uri": "https://localhost:8080/"
        },
        "id": "hired-blink",
        "outputId": "85017486-7364-4a43-ea7f-7c7a706ab6b5"
      },
      "outputs": [
        {
          "output_type": "execute_result",
          "data": {
            "text/plain": [
              "array([[1528,   67],\n",
              "       [ 204,  201]])"
            ]
          },
          "metadata": {},
          "execution_count": 35
        }
      ],
      "source": [
        "cm"
      ]
    },
    {
      "cell_type": "code",
      "execution_count": 36,
      "id": "express-trial",
      "metadata": {
        "execution": {
          "iopub.execute_input": "2024-03-08T19:57:44.939900Z",
          "iopub.status.busy": "2024-03-08T19:57:44.939062Z",
          "iopub.status.idle": "2024-03-08T19:57:44.941510Z",
          "shell.execute_reply": "2024-03-08T19:57:44.940913Z",
          "shell.execute_reply.started": "2024-03-08T16:35:44.060883Z"
        },
        "papermill": {
          "duration": 0.309401,
          "end_time": "2024-03-08T19:57:44.941645",
          "exception": false,
          "start_time": "2024-03-08T19:57:44.632244",
          "status": "completed"
        },
        "tags": [],
        "id": "express-trial"
      },
      "outputs": [],
      "source": [
        "# Calculate the Accuracy\n",
        "from sklearn.metrics import accuracy_score"
      ]
    },
    {
      "cell_type": "code",
      "execution_count": 37,
      "id": "cognitive-multiple",
      "metadata": {
        "execution": {
          "iopub.execute_input": "2024-03-08T19:57:45.565204Z",
          "iopub.status.busy": "2024-03-08T19:57:45.564691Z",
          "iopub.status.idle": "2024-03-08T19:57:45.567912Z",
          "shell.execute_reply": "2024-03-08T19:57:45.567339Z",
          "shell.execute_reply.started": "2024-03-08T16:35:44.071089Z"
        },
        "papermill": {
          "duration": 0.320518,
          "end_time": "2024-03-08T19:57:45.568035",
          "exception": false,
          "start_time": "2024-03-08T19:57:45.247517",
          "status": "completed"
        },
        "tags": [],
        "id": "cognitive-multiple"
      },
      "outputs": [],
      "source": [
        "score=accuracy_score(y_pred,y_test)"
      ]
    },
    {
      "cell_type": "code",
      "execution_count": 38,
      "id": "interested-stationery",
      "metadata": {
        "execution": {
          "iopub.execute_input": "2024-03-08T19:57:46.182967Z",
          "iopub.status.busy": "2024-03-08T19:57:46.182427Z",
          "iopub.status.idle": "2024-03-08T19:57:46.186514Z",
          "shell.execute_reply": "2024-03-08T19:57:46.186042Z",
          "shell.execute_reply.started": "2024-03-08T16:35:44.083378Z"
        },
        "papermill": {
          "duration": 0.312376,
          "end_time": "2024-03-08T19:57:46.186631",
          "exception": false,
          "start_time": "2024-03-08T19:57:45.874255",
          "status": "completed"
        },
        "tags": [],
        "colab": {
          "base_uri": "https://localhost:8080/"
        },
        "id": "interested-stationery",
        "outputId": "367d668a-335f-41a7-ed72-4f7c03fb70e0"
      },
      "outputs": [
        {
          "output_type": "execute_result",
          "data": {
            "text/plain": [
              "0.8645"
            ]
          },
          "metadata": {},
          "execution_count": 38
        }
      ],
      "source": [
        "score"
      ]
    },
    {
      "cell_type": "code",
      "execution_count": null,
      "id": "assumed-france",
      "metadata": {
        "papermill": {
          "duration": 0.307686,
          "end_time": "2024-03-08T19:57:46.798673",
          "exception": false,
          "start_time": "2024-03-08T19:57:46.490987",
          "status": "completed"
        },
        "tags": [],
        "id": "assumed-france"
      },
      "outputs": [],
      "source": []
    }
  ],
  "metadata": {
    "kaggle": {
      "accelerator": "none",
      "dataSources": [
        {
          "datasetId": 729058,
          "sourceId": 1265963,
          "sourceType": "datasetVersion"
        }
      ],
      "dockerImageVersionId": 30096,
      "isGpuEnabled": false,
      "isInternetEnabled": true,
      "language": "python",
      "sourceType": "notebook"
    },
    "kernelspec": {
      "display_name": "Python 3",
      "name": "python3"
    },
    "language_info": {
      "codemirror_mode": {
        "name": "ipython",
        "version": 3
      },
      "file_extension": ".py",
      "mimetype": "text/x-python",
      "name": "python",
      "nbconvert_exporter": "python",
      "pygments_lexer": "ipython3",
      "version": "3.7.10"
    },
    "papermill": {
      "default_parameters": {},
      "duration": 94.900504,
      "end_time": "2024-03-08T19:57:48.620285",
      "environment_variables": {},
      "exception": null,
      "input_path": "__notebook__.ipynb",
      "output_path": "__notebook__.ipynb",
      "parameters": {},
      "start_time": "2024-03-08T19:56:13.719781",
      "version": "2.3.3"
    },
    "colab": {
      "provenance": [],
      "gpuType": "T4"
    },
    "accelerator": "GPU"
  },
  "nbformat": 4,
  "nbformat_minor": 5
}